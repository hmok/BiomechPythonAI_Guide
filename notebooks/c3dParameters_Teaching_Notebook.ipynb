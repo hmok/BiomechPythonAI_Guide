{
  "nbformat": 4,
  "nbformat_minor": 0,
  "metadata": {
    "colab": {
      "provenance": []
    },
    "kernelspec": {
      "name": "python3",
      "display_name": "Python 3"
    },
    "language_info": {
      "name": "python"
    }
  },
  "cells": [
    {
      "cell_type": "markdown",
      "source": [
        "A Simple notebook to learn c3d structur and how to read in Python Let's call it\n",
        "**'c3dParameters Teaching Notebook'**\n",
        "This is part of ebook on learning biomechanics via Colab you can learn more on github, Udemy and Amazon ebook we share.\n",
        "\n",
        "Dr. Hossein Mokharzadeh\n",
        "PoseIQ.com\n"
      ],
      "metadata": {
        "id": "fIB7oz3ivs3V"
      }
    },
    {
      "cell_type": "markdown",
      "source": [
        "A Simple notebook to learn c3d structur and how to read in Python Let's call it\n",
        "**'c3dParameters Teaching Notebook'**\n",
        "This is part of ebook on learning biomechanics via Colab you can learn more on github, Udemy and Amazon ebook we share.\n",
        "\n",
        "Dr. Hossein Mokharzadeh\n",
        "PoseIQ.com\n"
      ],
      "metadata": {
        "id": "JTIkEds9vqBL"
      }
    },
    {
      "cell_type": "markdown",
      "source": [
        "A Simple notebook to learn c3d structur and how to read in Python Let's call it\n",
        "**'c3dParameters Teaching Notebook'**\n",
        "This is part of ebook on learning biomechanics via Colab you can learn more on github, Udemy and Amazon ebook we share.\n",
        "\n",
        "Dr. Hossein Mokharzadeh\n",
        "PoseIQ.com\n"
      ],
      "metadata": {
        "id": "99eSGsjbpy_B"
      }
    },
    {
      "cell_type": "code",
      "source": [
        "\"\"\"c3dParameters Teaching Notebook\"\"\"\n",
        "\n",
        "# --- Step 1: Import and Load ---\n",
        "import ezc3d\n",
        "from pprint import pprint\n",
        "\n",
        "# Load your C3D file\n",
        "c = ezc3d.c3d('/content/Eb015pi.c3d')\n",
        "print(\"✅ File loaded successfully!\")\n"
      ],
      "metadata": {
        "id": "weftxZ_MldJQ"
      },
      "execution_count": null,
      "outputs": []
    },
    {
      "cell_type": "code",
      "source": [
        "# --- Step 2: Explore the Main Structure ---\n",
        "print(\"\\nMain sections of the C3D file:\")\n",
        "for key in c.keys():\n",
        "    print(\"•\", key)"
      ],
      "metadata": {
        "id": "1sN7TBkBnMTl"
      },
      "execution_count": null,
      "outputs": []
    },
    {
      "cell_type": "code",
      "source": [
        "# --- Step 3: Check what's inside 'parameters' ---\n",
        "print(\"\\nAvailable parameter groups:\")\n",
        "print(list(c['parameters'].keys()))\n",
        "\n",
        "print(\"\\nPOINT group parameters:\")\n",
        "print(list(c['parameters']['POINT'].keys()))\n",
        "\n"
      ],
      "metadata": {
        "id": "YmJCqlCFogpZ"
      },
      "execution_count": null,
      "outputs": []
    },
    {
      "cell_type": "code",
      "source": [
        "# --- Step 4: Understanding keys() vs items() ---\n",
        "print(\"\\nKeys only:\")\n",
        "print(c.keys())\n",
        "\n",
        "print(\"\\nItems (key + content type):\")\n",
        "for key, value in c.items():\n",
        "    print(key, \"→\", type(value))"
      ],
      "metadata": {
        "id": "S6cTS0eTowqz"
      },
      "execution_count": null,
      "outputs": []
    },
    {
      "cell_type": "code",
      "source": [
        "# --- Step 5: Explore FORCE_PLATFORM TYPE ---\n",
        "print(\"\\nFull FORCE_PLATFORM TYPE parameter:\")\n",
        "pprint(c['parameters']['FORCE_PLATFORM']['TYPE'])\n",
        "\n",
        "fp_type_param = c['parameters']['FORCE_PLATFORM']['TYPE']\n",
        "\n",
        "print(\"\\nAll info about this parameter:\")\n",
        "for key, val in fp_type_param.items():\n",
        "    print(f\"{key}: {val}\")\n",
        "\n",
        "print(\"\\nJust the numeric value:\")\n",
        "print(\"Force platform type:\", fp_type_param['value'])"
      ],
      "metadata": {
        "id": "Y45AkVeKo3vs"
      },
      "execution_count": null,
      "outputs": []
    },
    {
      "cell_type": "code",
      "source": [
        "# Explore the FORCE_PLATFORM TYPE parameter\n",
        "fp_type_param = c['parameters']['FORCE_PLATFORM']['TYPE']\n",
        "\n",
        "# Look at all info available\n",
        "for key, val in fp_type_param.items():\n",
        "    print(f\"{key}: {val}\")\n",
        "\n",
        "# Get only the actual numeric value\n",
        "print(\"Force platform type:\", fp_type_param['value'])\n"
      ],
      "metadata": {
        "id": "wPJ1_8d0reJ8"
      },
      "execution_count": null,
      "outputs": []
    },
    {
      "cell_type": "code",
      "source": [
        "# --- Step 6: Generic Function to Read Any Parameter ---\n",
        "def show_param(group, param):\n",
        "    \"\"\"Generic function to print parameter values\"\"\"\n",
        "    try:\n",
        "        value = c['parameters'][group][param]['value']\n",
        "        print(f\"{group}/{param}: {value}\")\n",
        "    except KeyError:\n",
        "        print(\"That group or parameter doesn't exist!\")"
      ],
      "metadata": {
        "id": "GayImprXm8pv"
      },
      "execution_count": null,
      "outputs": []
    },
    {
      "cell_type": "code",
      "source": [
        "# --- Step 7: Try Some Examples ---\n",
        "show_param('FORCE_PLATFORM', 'TYPE')\n",
        "show_param('POINT', 'LABELS')\n",
        "show_param('ANALOG', 'UNITS')\n"
      ],
      "metadata": {
        "id": "dg0MHQ7QngZf"
      },
      "execution_count": null,
      "outputs": []
    },
    {
      "cell_type": "code",
      "source": [
        "# --- Step 8: Student Exercises ---\n",
        "print(\"\\n🧩 Try exploring more parameters below:\")\n",
        "show_param('POINT', 'UNITS')\n",
        "show_param('ANALOG', 'RATE')\n",
        "show_param('FORCE_PLATFORM', 'CORNERS')\n"
      ],
      "metadata": {
        "id": "MJDZX1c9n65e"
      },
      "execution_count": null,
      "outputs": []
    },
    {
      "cell_type": "code",
      "source": [
        "# --- Step 9: Summary ---\n",
        "print(\"\\n✅ Summary:\")\n",
        "print(\"• The C3D file contains header, parameters, and data.\")\n",
        "print(\"• Use c['parameters']['GROUP']['PARAM']['value'] to access information.\")\n",
        "print(\"• .keys() gives names, .items() gives names + contents.\")\n"
      ],
      "metadata": {
        "id": "7Pcu-1hape6W"
      },
      "execution_count": null,
      "outputs": []
    }
  ]
}