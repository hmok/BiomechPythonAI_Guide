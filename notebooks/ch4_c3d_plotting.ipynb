{
  "cells": [
    {
      "cell_type": "markdown",
      "id": "e3b5b358",
      "metadata": {
        "id": "e3b5b358"
      },
      "source": [
        "# Chapter 4 — C3D Plotting: GRFs & Markers\n",
        "\n",
        "> **This notebook belongs to Chapter 4 of the eBook.**  \n",
        "> It may require libraries that you installed in previous chapters.  \n",
        "> **Author:** Hossein Mokhtarzadeh — **Poseiq.com**  \n",
        "> More of our work and courses are available on **Udemy**.\n",
        "\n",
        "In this chapter we will:\n",
        "- Load a `.c3d` file\n",
        "- Explore parameters (including force plate metadata)\n",
        "- Plot **all analog channels** (including GRFs if present)\n",
        "- Plot **marker trajectories**\n",
        "- Use a **generic C3D Parameter Visualizer** widget\n"
      ]
    },
    {
      "cell_type": "markdown",
      "id": "60fb1cb5",
      "metadata": {
        "id": "60fb1cb5"
      },
      "source": [
        "## Setup\n",
        "\n",
        "If you haven't already from earlier chapters, install/enable the following:\n",
        "\n",
        "```bash\n",
        "pip install ezc3d ipywidgets matplotlib pandas numpy\n",
        "jupyter nbextension enable --py widgetsnbextension\n",
        "```\n"
      ]
    },
    {
      "cell_type": "code",
      "source": [
        "!pip install ezc3d ipywidgets matplotlib pandas numpy\n",
        "!jupyter nbextension enable --py widgetsnbextension"
      ],
      "metadata": {
        "id": "9fqbTLpKK06h"
      },
      "id": "9fqbTLpKK06h",
      "execution_count": null,
      "outputs": []
    },
    {
      "cell_type": "code",
      "execution_count": null,
      "id": "c29d43b9",
      "metadata": {
        "id": "c29d43b9"
      },
      "outputs": [],
      "source": [
        "# ===== Imports & basic setup =====\n",
        "import numpy as np, pandas as pd\n",
        "import matplotlib.pyplot as plt\n",
        "from pathlib import Path\n",
        "from IPython.display import display, HTML\n",
        "\n",
        "# Main C3D reader\n",
        "import ezc3d\n",
        "\n",
        "# Optional widgets (used by the visualizer)\n",
        "import ipywidgets as W\n",
        "\n",
        "# Helper: nicer plots\n",
        "plt.rcParams['figure.figsize'] = (7, 3.5)\n",
        "plt.rcParams['axes.grid'] = True\n"
      ]
    },
    {
      "cell_type": "markdown",
      "id": "9ce015d2",
      "metadata": {
        "id": "9ce015d2"
      },
      "source": [
        "## Load a C3D file\n",
        "\n",
        "Update `c3d_path` to point to your file. We parse points (markers) and analog channels.\n"
      ]
    },
    {
      "cell_type": "code",
      "execution_count": null,
      "id": "c0ffc373",
      "metadata": {
        "id": "c0ffc373"
      },
      "outputs": [],
      "source": [
        "# ===== Load C3D =====\n",
        "# Change this path to your file (relative to this notebook or absolute)\n",
        "c3d_path = Path('/content/Eb015pi.c3d') # or Path(./trial.c3d)\n",
        "\n",
        "assert c3d_path.exists(), f\"Couldn't find {c3d_path}. Update the path above.\"\n",
        "\n",
        "c3d_obj = ezc3d.c3d(str(c3d_path))\n",
        "\n",
        "# We'll expose a dict-like API similar to the one used elsewhere in the book\n",
        "c3d = {\n",
        "    'parameters': c3d_obj['parameters'],\n",
        "    'data': {\n",
        "        'points': c3d_obj['data']['points'],    # (4, nMarkers, nFrames)\n",
        "        'analogs': c3d_obj['data']['analogs']   # (nSubframes, nAnalogs, nFrames)\n",
        "    },\n",
        "    'point_rate': float(c3d_obj['header']['points']['frame_rate']),\n",
        "    'analog_rate': float(c3d_obj['header']['analogs']['frame_rate']),\n",
        "    'info': c3d_obj,\n",
        "}\n",
        "print('Loaded:', c3d_path.name)\n",
        "print('Markers:', c3d['data']['points'].shape, ' Analogs:', c3d['data']['analogs'].shape)\n",
        "print('Rates  — points:', c3d['point_rate'], 'Hz | analog:', c3d['analog_rate'], 'Hz')\n"
      ]
    },
    {
      "cell_type": "code",
      "execution_count": null,
      "id": "b84abbc2",
      "metadata": {
        "id": "b84abbc2"
      },
      "outputs": [],
      "source": [
        "# ===== Names for markers and analog channels =====\n",
        "def get_marker_labels(c3d_obj):\n",
        "    P = c3d_obj['parameters']\n",
        "    try:\n",
        "        labels = P['POINT']['LABELS']['value']\n",
        "        return [str(x) for x in labels]\n",
        "    except Exception:\n",
        "        n = c3d_obj['data']['points'].shape[1]\n",
        "        return [f'Marker_{i}' for i in range(n)]\n",
        "\n",
        "def get_analog_labels(c3d_obj):\n",
        "    P = c3d_obj['parameters']\n",
        "    for key in ['ANALOG', 'ANALOGS']:\n",
        "        if key in P and 'LABELS' in P[key]:\n",
        "            return [str(x) for x in P[key]['LABELS']['value']]\n",
        "    n = c3d_obj['data']['analogs'].shape[1]\n",
        "    return [f'Analog_{i}' for i in range(n)]\n",
        "\n",
        "marker_labels = get_marker_labels(c3d_obj)\n",
        "analog_labels = get_analog_labels(c3d_obj)\n",
        "\n",
        "print('First few markers:', marker_labels[:5])\n",
        "print('First few analogs:', analog_labels[:5])\n"
      ]
    },
    {
      "cell_type": "code",
      "execution_count": null,
      "id": "6f5f6094",
      "metadata": {
        "id": "6f5f6094"
      },
      "outputs": [],
      "source": [
        "# ===== Build time vectors =====\n",
        "points = c3d['data']['points']\n",
        "analogs = c3d['data']['analogs']\n",
        "\n",
        "n_frames_points = points.shape[2]\n",
        "n_frames_analogs = analogs.shape[2]\n",
        "subframes = analogs.shape[0]\n",
        "\n",
        "t_points = np.arange(n_frames_points) / c3d['point_rate']\n",
        "t_analogs = np.arange(n_frames_analogs * subframes) / c3d['analog_rate']\n"
      ]
    },
    {
      "cell_type": "markdown",
      "id": "f6656e5e",
      "metadata": {
        "id": "f6656e5e"
      },
      "source": [
        "## Plot all analog channels\n",
        "\n",
        "This will iterate each analog channel and draw it as its own figure.\n"
      ]
    },
    {
      "cell_type": "code",
      "execution_count": null,
      "id": "e1a08513",
      "metadata": {
        "id": "e1a08513"
      },
      "outputs": [],
      "source": [
        "# ===== Plot all analog channels =====\n",
        "def plot_all_analogs(analogs, labels, t_analogs):\n",
        "    subframes, nA, nF = analogs.shape\n",
        "    data = analogs.transpose(1,2,0).reshape(nA, nF*subframes)\n",
        "    for i in range(nA):\n",
        "        plt.figure()\n",
        "        plt.plot(t_analogs, data[i])\n",
        "        plt.xlabel('Time (s)')\n",
        "        plt.ylabel(labels[i] if i < len(labels) else f'Analog_{i}')\n",
        "        plt.title(labels[i] if i < len(labels) else f'Analog_{i}')\n",
        "        plt.tight_layout()\n",
        "    print(f'Plotted {nA} analog channels.')\n",
        "\n",
        "plot_all_analogs(analogs, analog_labels, t_analogs)\n"
      ]
    },
    {
      "cell_type": "markdown",
      "id": "fc4be9d3",
      "metadata": {
        "id": "fc4be9d3"
      },
      "source": [
        "## Ground Reaction Forces (GRFs)\n",
        "\n",
        "If your analog labels contain force plate channels (e.g., **Fx, Fy, Fz, Mx, My, Mz**), we will detect them by name and plot.\n",
        "This is a simple heuristic; exact scaling/orientation depends on your lab configuration.\n"
      ]
    },
    {
      "cell_type": "code",
      "execution_count": null,
      "id": "58dc392f",
      "metadata": {
        "id": "58dc392f"
      },
      "outputs": [],
      "source": [
        "# ===== GRF detection & plotting =====\n",
        "def find_channels(labels, needle):\n",
        "    idx = []\n",
        "    for i,l in enumerate(labels):\n",
        "        if needle.lower() in str(l).lower():\n",
        "            idx.append(i)\n",
        "    return idx\n",
        "\n",
        "def plot_grfs(analogs, labels, t_analogs):\n",
        "    subf, nA, nF = analogs.shape\n",
        "    data = analogs.transpose(1,2,0).reshape(nA, nF*subf)\n",
        "    Fx_i = find_channels(labels, 'Fx')\n",
        "    Fy_i = find_channels(labels, 'Fy')\n",
        "    Fz_i = find_channels(labels, 'Fz')\n",
        "\n",
        "    if not (Fx_i or Fy_i or Fz_i):\n",
        "        print('No GRF-like channels detected by label.')\n",
        "        return\n",
        "\n",
        "    def _sum(indices):\n",
        "        return np.sum([data[i] for i in indices], axis=0) if indices else None\n",
        "\n",
        "    Fx = _sum(Fx_i)\n",
        "    Fy = _sum(Fy_i)\n",
        "    Fz = _sum(Fz_i)\n",
        "\n",
        "    if Fx is not None:\n",
        "        plt.figure(); plt.plot(t_analogs, Fx)\n",
        "        plt.xlabel('Time (s)'); plt.ylabel('Fx (N)'); plt.title('GRF Fx (sum of detected channels)'); plt.tight_layout()\n",
        "    if Fy is not None:\n",
        "        plt.figure(); plt.plot(t_analogs, Fy)\n",
        "        plt.xlabel('Time (s)'); plt.ylabel('Fy (N)'); plt.title('GRF Fy (sum of detected channels)'); plt.tight_layout()\n",
        "    if Fz is not None:\n",
        "        plt.figure(); plt.plot(t_analogs, Fz)\n",
        "        plt.xlabel('Time (s)'); plt.ylabel('Fz (N)'); plt.title('GRF Fz (sum of detected channels)'); plt.tight_layout()\n",
        "\n",
        "plot_grfs(analogs, analog_labels, t_analogs)\n"
      ]
    },
    {
      "cell_type": "markdown",
      "id": "9db225b0",
      "metadata": {
        "id": "9db225b0"
      },
      "source": [
        "## Plot markers\n",
        "\n",
        "We expose a simple function to plot selected markers (X, Y, Z vs time). Pass `names=None` to plot all.\n"
      ]
    },
    {
      "cell_type": "code",
      "execution_count": null,
      "id": "099d8681",
      "metadata": {
        "id": "099d8681"
      },
      "outputs": [],
      "source": [
        "# ===== Plot markers =====\n",
        "# points: (4, nMarkers, nFrames) where rows are X,Y,Z,Residual\n",
        "def plot_markers(points, labels, t_points, names=None, limit=None):\n",
        "    nM = points.shape[1]\n",
        "    if names is None:\n",
        "        names = labels\n",
        "    idxs = [labels.index(n) for n in names if n in labels]\n",
        "    if limit is not None:\n",
        "        idxs = idxs[:limit]\n",
        "    for i in idxs:\n",
        "        X = points[0, i, :]\n",
        "        Y = points[1, i, :]\n",
        "        Z = points[2, i, :]\n",
        "        for comp, arr in zip(['X','Y','Z'], [X,Y,Z]):\n",
        "            plt.figure(); plt.plot(t_points, arr)\n",
        "            plt.xlabel('Time (s)'); plt.ylabel(f'{comp} (mm)')\n",
        "            plt.title(f'{labels[i]} — {comp}')\n",
        "            plt.tight_layout()\n",
        "    print(f'Plotted {len(idxs)} markers (each with X/Y/Z).')\n",
        "\n",
        "# Example: plot first 5 markers (uncomment below)\n",
        "# plot_markers(points, marker_labels, t_points, limit=5)\n"
      ]
    },
    {
      "cell_type": "markdown",
      "id": "e354c8c0",
      "metadata": {
        "id": "e354c8c0"
      },
      "source": [
        "## Generic C3D Parameter Visualizer (from the prompt)\n",
        "\n",
        "This widget lets you browse any group/parameter, with helpers for force-plate CORNERS and CHANNEL.\n"
      ]
    },
    {
      "cell_type": "code",
      "execution_count": null,
      "id": "cb9fffe0",
      "metadata": {
        "id": "cb9fffe0"
      },
      "outputs": [],
      "source": [
        "# ===== Generic C3D Parameter Visualizer =====\n",
        "# Works alongside your existing widgets\n",
        "import numpy as np, pandas as pd, ipywidgets as W, matplotlib.pyplot as plt\n",
        "from IPython.display import display, HTML\n",
        "from pathlib import Path\n",
        "import json, html as html_mod\n",
        "\n",
        "P = c3d['parameters']\n",
        "\n",
        "def _get_groups():\n",
        "    return sorted([g for g in P.keys() if isinstance(P[g], dict)])\n",
        "\n",
        "def _get_params(g):\n",
        "    if g not in P: return []\n",
        "    return sorted([k for k,v in P[g].items() if isinstance(v, dict)])\n",
        "\n",
        "def _val(g,k, default=None):\n",
        "    try: return P[g][k]['value']\n",
        "    except Exception: return default\n",
        "\n",
        "def _to_nd(val):\n",
        "    # convert nested lists to numpy if possible\n",
        "    try:\n",
        "        arr = np.array(val)\n",
        "        # try to cast numerics\n",
        "        if arr.dtype == object:\n",
        "            try:\n",
        "                arr = arr.astype(float)\n",
        "            except Exception:\n",
        "                pass\n",
        "        return arr\n",
        "    except Exception:\n",
        "        return np.array(val, dtype=object)\n",
        "\n",
        "def _is_numeric(arr):\n",
        "    return np.issubdtype(arr.dtype, np.number)\n",
        "\n",
        "def _export_csv(g, p, arr, out_dir='/content'):\n",
        "    out = Path(out_dir) / f'c3d_param_{g}_{p}.csv'\n",
        "    try:\n",
        "        if arr.ndim == 0:\n",
        "            pd.DataFrame({'value':[arr.item()]}).to_csv(out, index=False)\n",
        "        elif arr.ndim == 1:\n",
        "            pd.DataFrame({'index':np.arange(arr.shape[0]), 'value':arr}).to_csv(out, index=False)\n",
        "        elif arr.ndim == 2:\n",
        "            pd.DataFrame(arr).to_csv(out, index=False)\n",
        "        else:\n",
        "            # flatten higher dims\n",
        "            flat = arr.reshape(arr.shape[0], -1) if arr.size else arr\n",
        "            pd.DataFrame(flat).to_csv(out, index=False)\n",
        "        return str(out)\n",
        "    except Exception:\n",
        "        # fallback for non numeric or ragged\n",
        "        v = _val(g,p)\n",
        "        out.write_text(json.dumps(v, ensure_ascii=False, indent=2), encoding='utf-8')\n",
        "        return str(out)\n",
        "\n",
        "# special plots for force plates\n",
        "def _plot_fp_corners(arr):\n",
        "    # expect shape (plates, 3, 4) or (3,4) or flat 12\n",
        "    A = np.array(arr)\n",
        "    if A.ndim == 1 and A.size == 12:\n",
        "        A = A.reshape(1,3,4)\n",
        "    if A.ndim == 2 and A.shape == (3,4):\n",
        "        A = A.reshape(1,3,4)\n",
        "    if A.ndim != 3 or A.shape[1] != 3 or A.shape[2] != 4:\n",
        "        print('Cannot interpret CORNERS shape', A.shape); return\n",
        "    plt.figure(figsize=(5,5))\n",
        "    for i in range(A.shape[0]):\n",
        "        X, Y = A[i,0,:], A[i,1,:]\n",
        "        Xc = np.r_[X, X[0]]; Yc = np.r_[Y, Y[0]]\n",
        "        plt.plot(Xc, Yc, marker='o', label=f'Plate {i+1}')\n",
        "        plt.text(X.mean(), Y.mean(), f'{i+1}')\n",
        "    plt.gca().set_aspect('equal', adjustable='box')\n",
        "    plt.xlabel('X m'); plt.ylabel('Y m'); plt.title('FORCE_PLATFORM CORNERS')\n",
        "    plt.grid(True, alpha=0.3); plt.legend(); plt.tight_layout(); plt.show()\n",
        "\n",
        "def _plot_fp_channel(arr):\n",
        "    A = np.array(arr)\n",
        "    if A.ndim == 1 and A.size % 6 == 0:\n",
        "        A = A.reshape(6, -1)\n",
        "    if A.ndim != 2 or A.shape[0] != 6:\n",
        "        print('Expected shape 6 x plates, got', A.shape); return\n",
        "    df = pd.DataFrame(A, index=['Fx','Fy','Fz','Mx','My','Mz'])\n",
        "    display(df)\n",
        "\n",
        "# widgets\n",
        "g_dd  = W.Dropdown(options=_get_groups(), description='Group:', layout=W.Layout(width='280px'))\n",
        "p_dd  = W.Dropdown(options=_get_params(_get_groups()[0]) if _get_groups() else [], description='Param:', layout=W.Layout(width='320px'))\n",
        "view_dd = W.Dropdown(options=['Auto', 'Line', 'Heatmap', 'Scatter 2D', 'Table'], value='Auto', description='View:', layout=W.Layout(width='200px'))\n",
        "dim_dd  = W.Dropdown(options=['auto','rows','cols'], value='auto', description='Plot along:', layout=W.Layout(width='180px'))\n",
        "export_btn = W.Button(description='Export CSV', icon='download')\n",
        "out = W.Output()\n",
        "\n",
        "def on_group_change(change):\n",
        "    p_dd.options = _get_params(g_dd.value)\n",
        "    if p_dd.options:\n",
        "        p_dd.value = p_dd.options[0]\n",
        "    refresh()\n",
        "\n",
        "def refresh(*_):\n",
        "    out.clear_output(wait=True)\n",
        "    g = g_dd.value; p = p_dd.value\n",
        "    val = _val(g,p)\n",
        "    with out:\n",
        "        if val is None:\n",
        "            print('No value')\n",
        "            return\n",
        "        arr = _to_nd(val)\n",
        "        print(f\"{g}  {p}  shape {getattr(arr,'shape',())}  dtype {getattr(arr,'dtype','')}\")\n",
        "        # force plate helpers\n",
        "        if g == 'FORCE_PLATFORM' and p.upper() == 'CORNERS' and _is_numeric(arr):\n",
        "            _plot_fp_corners(arr); return\n",
        "        if g == 'FORCE_PLATFORM' and p.upper() == 'CHANNEL':\n",
        "            _plot_fp_channel(arr); return\n",
        "\n",
        "        if not _is_numeric(arr):\n",
        "            # show as table of strings\n",
        "            try:\n",
        "                if isinstance(val, list) and all(not isinstance(x, (list,tuple)) for x in val):\n",
        "                    df = pd.DataFrame({p: [str(x) for x in val]})\n",
        "                else:\n",
        "                    df = pd.DataFrame(val)\n",
        "                display(df)\n",
        "            except Exception:\n",
        "                print(val)\n",
        "            return\n",
        "\n",
        "        # numeric plots\n",
        "        try:\n",
        "            if arr.ndim == 0:\n",
        "                print(arr.item())\n",
        "            elif arr.ndim == 1:\n",
        "                plt.figure(figsize=(9,3))\n",
        "                plt.plot(np.arange(arr.size), arr)\n",
        "                plt.xlabel('Index'); plt.ylabel('Value'); plt.title(f'{g}.{p}')\n",
        "                plt.grid(True, alpha=0.3); plt.tight_layout(); plt.show()\n",
        "            elif arr.ndim == 2:\n",
        "                mode = view_dd.value\n",
        "                if mode in ['Auto','Heatmap']:\n",
        "                    plt.figure(figsize=(6,4))\n",
        "                    plt.imshow(arr, aspect='auto', origin='lower')\n",
        "                    plt.colorbar(label='Value')\n",
        "                    plt.title(f'{g}.{p} heatmap')\n",
        "                    plt.tight_layout(); plt.show()\n",
        "                elif mode in ['Line']:\n",
        "                    # plot each row as a line\n",
        "                    plt.figure(figsize=(9,4))\n",
        "                    for i in range(arr.shape[0]):\n",
        "                        plt.plot(arr[i], alpha=0.6)\n",
        "                    plt.title(f'{g}.{p} line by row')\n",
        "                    plt.xlabel('Index'); plt.ylabel('Value')\n",
        "                    plt.grid(True, alpha=0.3); plt.tight_layout(); plt.show()\n",
        "                elif mode in ['Scatter 2D']:\n",
        "                    # take first two cols if present\n",
        "                    x = arr[:,0] if arr.shape[1] >= 1 else np.arange(arr.shape[0])\n",
        "                    y = arr[:,1] if arr.shape[1] >= 2 else np.zeros(arr.shape[0])\n",
        "                    plt.figure(figsize=(5,5))\n",
        "                    plt.scatter(x,y, s=12)\n",
        "                    plt.title(f'{g}.{p} scatter')\n",
        "                    plt.xlabel('col0'); plt.ylabel('col1')\n",
        "                    plt.grid(True, alpha=0.3); plt.tight_layout(); plt.show()\n",
        "                else:\n",
        "                    display(pd.DataFrame(arr))\n",
        "            else:\n",
        "                # higher dims fallback\n",
        "                flat = arr.reshape(arr.shape[0], -1)\n",
        "                if view_dd.value in ['Auto','Heatmap']:\n",
        "                    plt.figure(figsize=(6,4))\n",
        "                    plt.imshow(flat, aspect='auto', origin='lower')\n",
        "                    plt.colorbar(label='Value')\n",
        "                    plt.title(f'{g}.{p} flattened heatmap')\n",
        "                    plt.tight_layout(); plt.show()\n",
        "                else:\n",
        "                    display(pd.DataFrame(flat))\n",
        "        except Exception as e:\n",
        "            print('Plot error:', e)\n",
        "            try:\n",
        "                display(pd.DataFrame(arr))\n",
        "            except Exception:\n",
        "                print(arr)\n",
        "\n",
        "def on_export(_):\n",
        "    g = g_dd.value; p = p_dd.value\n",
        "    path = _export_csv(g, p, _to_nd(_val(g,p)))\n",
        "    display(HTML(f\"Saved <a href='sandbox:{path}' target='_blank'>{html_mod.escape(Path(path).name)}</a>\"))\n",
        "\n",
        "g_dd.observe(on_group_change, names='value')\n",
        "p_dd.observe(lambda _: refresh(), names='value')\n",
        "view_dd.observe(lambda _: refresh(), names='value')\n",
        "export_btn.on_click(on_export)\n",
        "\n",
        "ui = W.VBox([\n",
        "    W.HBox([g_dd, p_dd]),\n",
        "    W.HBox([view_dd, dim_dd, export_btn]),\n",
        "    out\n",
        "])\n",
        "display(ui)\n",
        "refresh()\n"
      ]
    },
    {
      "cell_type": "markdown",
      "id": "db590407",
      "metadata": {
        "id": "db590407"
      },
      "source": [
        "## One-click: Markers & GRFs\n",
        "\n",
        "Run the cell below to quickly preview first few markers (X/Y/Z) and detected GRFs.\n"
      ]
    },
    {
      "cell_type": "code",
      "execution_count": null,
      "id": "ffdf9d04",
      "metadata": {
        "id": "ffdf9d04"
      },
      "outputs": [],
      "source": [
        "# ===== Quick preview =====\n",
        "# Plot first 3 markers\n",
        "plot_markers(points, marker_labels, t_points, limit=3)\n",
        "# Plot detected GRFs\n",
        "plot_grfs(analogs, analog_labels, t_analogs)\n"
      ]
    }
  ],
  "metadata": {
    "colab": {
      "provenance": []
    },
    "language_info": {
      "name": "python"
    },
    "kernelspec": {
      "name": "python3",
      "display_name": "Python 3"
    }
  },
  "nbformat": 4,
  "nbformat_minor": 5
}