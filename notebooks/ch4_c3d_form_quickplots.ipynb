{
  "cells": [
    {
      "cell_type": "markdown",
      "id": "41dc7a03",
      "metadata": {
        "id": "41dc7a03"
      },
      "source": [
        "# Chapter 4 — C3D Utilities: Mapping, Scaling & Quick Plots (Markers & GRFs)\n",
        "\n",
        "> **This notebook is part of Chapter 4 of the eBook.**  \n",
        "> It may need libraries from previous chapters.  \n",
        "> **Author:** Hossein Mokhtarzadeh — **Poseiq.com**  \n",
        "> Find our work on **Udemy**.\n",
        "\n",
        "This notebook matches your 'two-cells' workflow and uses the fixed C3D path:\n",
        "\n",
        "```\n",
        "/content/Eb015pi.c3d\n",
        "```\n",
        "Please ensure this file exists (it should have been provided or produced in earlier chapters)."
      ]
    },
    {
      "cell_type": "markdown",
      "id": "5e9adbc2",
      "metadata": {
        "id": "5e9adbc2"
      },
      "source": [
        "## Setup\n",
        "If needed, (re)install packages used here:"
      ]
    },
    {
      "cell_type": "markdown",
      "id": "e3702698",
      "metadata": {
        "id": "e3702698"
      },
      "source": [
        "```bash\n",
        "pip install ezc3d matplotlib numpy\n",
        "```"
      ]
    },
    {
      "cell_type": "code",
      "source": [
        "pip install ezc3d matplotlib numpy"
      ],
      "metadata": {
        "id": "nDqDWiarPVlr"
      },
      "id": "nDqDWiarPVlr",
      "execution_count": null,
      "outputs": []
    },
    {
      "cell_type": "markdown",
      "id": "8c8121ef",
      "metadata": {
        "id": "8c8121ef"
      },
      "source": [
        "## Load the C3D (fixed path)"
      ]
    },
    {
      "cell_type": "code",
      "execution_count": null,
      "id": "7a2cb31d",
      "metadata": {
        "id": "7a2cb31d"
      },
      "outputs": [],
      "source": [
        "from pathlib import Path\n",
        "import ezc3d\n",
        "import numpy as np\n",
        "import matplotlib.pyplot as plt\n",
        "\n",
        "c3d_path = Path('/content/Eb015pi.c3d')\n",
        "assert c3d_path.exists(), (\n",
        "    f\"Couldn't find {c3d_path}. Please place the file there — you should have it from previous chapters.\"\n",
        ")\n",
        "\n",
        "c3d = ezc3d.c3d(str(c3d_path))\n",
        "print('Loaded:', c3d_path)\n"
      ]
    },
    {
      "cell_type": "markdown",
      "id": "6df2b674",
      "metadata": {
        "id": "6df2b674"
      },
      "source": [
        "## Cell 1 — Utilities (mapping + scaling + helpers)"
      ]
    },
    {
      "cell_type": "code",
      "execution_count": null,
      "id": "a53b524d",
      "metadata": {
        "id": "a53b524d"
      },
      "outputs": [],
      "source": [
        "# --- C3D helpers: analog normalization, scaling, mapping, quick plots ---\n",
        "import numpy as np, matplotlib.pyplot as plt\n",
        "\n",
        "def _pval(P,g,k, default=None):\n",
        "    try: return P[g][k]['value']\n",
        "    except Exception: return default\n",
        "\n",
        "def _normalize_analogs(A):\n",
        "    A = np.asarray(A)\n",
        "    if A.ndim == 2: return A\n",
        "    if A.ndim == 3:\n",
        "        # (subframes, ch, frames) -> moveaxis; else (ch, subframes, frames)\n",
        "        if A.shape[0] < 16 and A.shape[1] > A.shape[0]:\n",
        "            return np.moveaxis(A, 0, -1).reshape(A.shape[1], -1)\n",
        "        return A.reshape(A.shape[0], -1)\n",
        "    return A.reshape(A.shape[0], -1)\n",
        "\n",
        "def _clean_labels(v):\n",
        "    try:\n",
        "        if isinstance(v,(list,tuple)) and v and isinstance(v[0],(list,tuple,np.ndarray)):\n",
        "            v = [x[0] for x in v]\n",
        "    except Exception:\n",
        "        pass\n",
        "    return [str(x) for x in list(v or [])]\n",
        "\n",
        "def c3d_streams(c3d):\n",
        "    P = c3d['parameters']\n",
        "    pts = c3d['data']['points']\n",
        "    n_points, n_frames = pts.shape[1], pts.shape[2]\n",
        "    pt_rate = float(_pval(P,'POINT','RATE',[1.0])[0]) if _pval(P,'POINT','RATE',None) is not None else 1.0\n",
        "    t_pts   = np.arange(n_frames) / (pt_rate if pt_rate>0 else 1.0)\n",
        "    point_labels = _clean_labels(_pval(P,'POINT','LABELS', []) or [f'P{i+1}' for i in range(n_points)])\n",
        "    point_units  = (_pval(P,'POINT','UNITS', [''])[0] if _pval(P,'POINT','UNITS', None) else '')\n",
        "\n",
        "    raw_an = c3d['data'].get('analogs', None)\n",
        "    an = _normalize_analogs(raw_an) if raw_an is not None else np.zeros((0,0))\n",
        "    an_rate = float(_pval(P,'ANALOG','RATE',[1.0])[0]) if _pval(P,'ANALOG','RATE',None) is not None else 1.0\n",
        "    t_an = np.arange(an.shape[1]) / (an_rate if an_rate>0 else 1.0)\n",
        "    analog_labels = _clean_labels(_pval(P,'ANALOG','LABELS', []) or [f'CH{i+1}' for i in range(an.shape[0])])\n",
        "    analog_units  = _clean_labels(_pval(P,'ANALOG','UNITS', []) or ['']*an.shape[0])\n",
        "\n",
        "    return P, pts, t_pts, point_labels, point_units, an, t_an, analog_labels, analog_units, an_rate\n",
        "\n",
        "def c3d_scalers(P, n_ch):\n",
        "    gen_scale = float((_pval(P,'ANALOG','GEN_SCALE',[1.0]) or [1.0])[0])\n",
        "    def _to1(x,N,fill):\n",
        "        try: arr = np.array(x).astype(float).ravel()\n",
        "        except Exception: arr = np.array([], float)\n",
        "        if arr.size < N: arr = np.concatenate([arr, np.full(N-arr.size, fill)])\n",
        "        if arr.size > N: arr = arr[:N]\n",
        "        return arr\n",
        "    offs = _to1(_pval(P,'ANALOG','OFFSET',[0.0]*n_ch), n_ch, 0.0)\n",
        "    sca  = _to1(_pval(P,'ANALOG','SCALE', [1.0]*n_ch), n_ch, 1.0)\n",
        "    def apply(y,i, use=True): return (y - offs[i]) * sca[i] * gen_scale if use else y\n",
        "    return apply\n",
        "\n",
        "def forceplate_mapping(P, analog_labels):\n",
        "    used = int((_pval(P,'FORCE_PLATFORM','USED',[0]) or [0])[0])\n",
        "    ch   = _pval(P,'FORCE_PLATFORM','CHANNEL', None)\n",
        "    mat = None\n",
        "    if used and ch is not None:\n",
        "        A = np.array(ch)\n",
        "        if A.ndim == 1 and A.size == 6*used: A = A.reshape(6,used)\n",
        "        if A.ndim == 2 and A.shape == (used,6): A = A.T\n",
        "        if A.ndim == 2 and A.shape[0] == 6: mat = A.astype(int) - 1  # to 0-based\n",
        "    low = [s.lower() for s in analog_labels]\n",
        "    fxL = [i for i,s in enumerate(low) if 'fx' in s]\n",
        "    fyL = [i for i,s in enumerate(low) if 'fy' in s]\n",
        "    fzL = [i for i,s in enumerate(low) if 'fz' in s]\n",
        "    return used, mat, fxL, fyL, fzL\n",
        "\n",
        "def ch_index(p, comp, mat, an_n, fxL, fyL, fzL):\n",
        "    if mat is not None and 0 <= p < mat.shape[1]:\n",
        "        row = {'Fx':0,'Fy':1,'Fz':2,'Mx':3,'My':4,'Mz':5}[comp]\n",
        "        j = int(mat[row, p]);  return j if 0 <= j < an_n else None\n",
        "    L = {'Fx':fxL, 'Fy':fyL, 'Fz':fzL}[comp]\n",
        "    return L[p] if p < len(L) else None\n",
        "\n",
        "def list_forceplate_channels(c3d):\n",
        "    P, _, _, _, _, an, _, analog_labels, _, _ = c3d_streams(c3d)\n",
        "    used, mat, fxL, fyL, fzL = forceplate_mapping(P, analog_labels)\n",
        "    nP = (mat.shape[1] if mat is not None else min(len(fxL), len(fyL), len(fzL)))\n",
        "    print(f'Detected plates: {nP}  (FORCE_PLATFORM/USED={used})')\n",
        "    for p in range(nP):\n",
        "        out = []\n",
        "        for comp in ['Fx','Fy','Fz','Mx','My','Mz']:\n",
        "            j = ch_index(p, comp, mat, an.shape[0], fxL, fyL, fzL)\n",
        "            if j is None: out.append(f\"{comp}: -\")\n",
        "            else: out.append(f\"{comp}: {analog_labels[j]} (ch {j})\")\n",
        "        print(' Plate {p}: '.replace('{p}', str(p+1)) + ' | '.join(out))\n",
        "\n",
        "def plot_marker(c3d, label, axis='Z'):\n",
        "    P, pts, t_pts, point_labels, point_units, *_ = c3d_streams(c3d)\n",
        "    if label not in point_labels:\n",
        "        print('Marker not found. Example:', point_labels[:5]); return\n",
        "    comp = {'X':0,'Y':1,'Z':2}[axis.upper()]\n",
        "    idx  = point_labels.index(label)\n",
        "    y    = pts[comp, idx, :]\n",
        "    plt.figure(figsize=(9,3)); plt.plot(t_pts, y); plt.grid(True, alpha=.3)\n",
        "    plt.xlabel('Time [s]'); plt.ylabel(f\"{axis} {point_units}\"); plt.title(f\"{label} ({axis})\"); plt.tight_layout(); plt.show()\n",
        "\n",
        "def plot_grf_board(c3d, invert_fz=False, include_mag=True, same_ylim=False, scale=True):\n",
        "    P, _, _, _, _, an, t_an, analog_labels, _, _ = c3d_streams(c3d)\n",
        "    if an.size == 0: print('No analog channels.'); return\n",
        "    apply = c3d_scalers(P, an.shape[0])\n",
        "    used, mat, fxL, fyL, fzL = forceplate_mapping(P, analog_labels)\n",
        "    nP = (mat.shape[1] if mat is not None else min(len(fxL), len(fyL), len(fzL)))\n",
        "    if nP == 0: print('No Fx/Fy/Fz detected.'); return\n",
        "\n",
        "    rows = nP\n",
        "    fig, axes = plt.subplots(rows, 1, figsize=(10, 3*rows), sharex=True)\n",
        "    if rows == 1: axes = [axes]\n",
        "    gmin, gmax = +np.inf, -np.inf\n",
        "    cache = []\n",
        "    for p in range(nP):\n",
        "        ix,iy,iz = ch_index(p,'Fx',mat,an.shape[0],fxL,fyL,fzL), ch_index(p,'Fy',mat,an.shape[0],fxL,fyL,fzL), ch_index(p,'Fz',mat,an.shape[0],fxL,fyL,fzL)\n",
        "        if None in (ix,iy,iz): cache.append(None); continue\n",
        "        Fx,Fy,Fz = an[ix].copy(), an[iy].copy(), an[iz].copy()\n",
        "        Fx,Fy,Fz = apply(Fx,ix,scale), apply(Fy,iy,scale), apply(Fz,iz,scale)\n",
        "        if invert_fz: Fz = -Fz\n",
        "        entry = {'Fx':Fx,'Fy':Fy,'Fz':Fz}\n",
        "        if include_mag: entry['|F|'] = np.sqrt(Fx**2 + Fy**2 + Fz**2)\n",
        "        cache.append(entry)\n",
        "        cat = np.hstack(list(entry.values()))\n",
        "        gmin, gmax = min(gmin, np.nanmin(cat)), max(gmax, np.nanmax(cat))\n",
        "    for p,ax in enumerate(axes):\n",
        "        if cache[p] is None:\n",
        "            ax.text(0.5,0.5,f'Plate {p+1}: channels not found', ha='center', va='center', transform=ax.transAxes)\n",
        "            ax.set_axis_off(); continue\n",
        "        for name,y in cache[p].items(): ax.plot(t_an,y,label=name,linewidth=1.2)\n",
        "        ax.set_title(f'Plate {p+1}'); ax.set_ylabel('Force'); ax.grid(True,alpha=.3)\n",
        "        if same_ylim and np.isfinite(gmin) and np.isfinite(gmax):\n",
        "            pad = 0.05*(gmax-gmin + 1e-9); ax.set_ylim(gmin-pad, gmax+pad)\n",
        "    axes[-1].set_xlabel('Time [s]'); axes[0].legend(loc='upper right',ncol=4,frameon=False,fontsize=9)\n",
        "    plt.tight_layout(); plt.show()\n"
      ]
    },
    {
      "cell_type": "markdown",
      "id": "f6ec401d",
      "metadata": {
        "id": "f6ec401d"
      },
      "source": [
        "## Cell 2 — Marker / GRF quickplot (no ipywidgets)"
      ]
    },
    {
      "cell_type": "code",
      "execution_count": null,
      "id": "c74ffb5c",
      "metadata": {
        "cellView": "form",
        "id": "c74ffb5c"
      },
      "outputs": [],
      "source": [
        "#@title Marker / GRF quickplot (works without ipywidgets)\n",
        "mode = 'GRF board' #@param ['GRF board','Force plate channel','Marker POINT']\n",
        "# --- GRF board options ---\n",
        "invert_fz = False  #@param {type:'boolean'}\n",
        "include_mag = True  #@param {type:'boolean'}\n",
        "same_ylim = False  #@param {type:'boolean'}\n",
        "apply_scaling = True  #@param {type:'boolean'}\n",
        "# --- Single force-plate channel options ---\n",
        "plate_index = 0  #@param {type:'integer'}\n",
        "component = 'Fz' #@param ['Fx','Fy','Fz','|F|','Mx','My','Mz']\n",
        "# --- Marker options ---\n",
        "marker_label = 'RASI' #@param {type:'string'}\n",
        "marker_axis = 'Z'     #@param ['X','Y','Z']\n",
        "\n",
        "# Auto extract streams\n",
        "P, pts, t_pts, point_labels, point_units, an, t_an, analog_labels, analog_units, an_rate = c3d_streams(c3d)\n",
        "\n",
        "if mode == 'GRF board':\n",
        "    print('Detected plates / channels:')\n",
        "    list_forceplate_channels(c3d)\n",
        "    plot_grf_board(c3d, invert_fz=invert_fz, include_mag=include_mag, same_ylim=same_ylim, scale=apply_scaling)\n",
        "\n",
        "elif mode == 'Force plate channel':\n",
        "    used, mat, fxL, fyL, fzL = forceplate_mapping(P, analog_labels)\n",
        "    nP = (mat.shape[1] if mat is not None else min(len(fxL), len(fyL), len(fzL)))\n",
        "    if nP == 0:\n",
        "        print('No Fx/Fy/Fz detected.');\n",
        "    else:\n",
        "        p = max(0, min(plate_index, nP-1))\n",
        "        apply = c3d_scalers(P, an.shape[0])\n",
        "\n",
        "        def pick(comp):\n",
        "            j = ch_index(p, comp, mat, an.shape[0], fxL, fyL, fzL)\n",
        "            return (None, None) if j is None else (an[j].copy(), j)\n",
        "\n",
        "        if component == '|F|':\n",
        "            Fx, ix = pick('Fx'); Fy, iy = pick('Fy'); Fz, iz = pick('Fz')\n",
        "            if None in (Fx,Fy,Fz):\n",
        "                print('Required Fx/Fy/Fz missing for this plate.')\n",
        "            else:\n",
        "                if apply_scaling: Fx, Fy, Fz = apply(Fx,ix,True), apply(Fy,iy,True), apply(Fz,iz,True)\n",
        "                if invert_fz: Fz = -Fz\n",
        "                y = np.sqrt(Fx**2 + Fy**2 + Fz**2); ylab = 'Force'\n",
        "                title = f'Plate {p+1} |F|'\n",
        "                plt.figure(figsize=(10,3)); plt.plot(t_an, y); plt.grid(True, alpha=.3)\n",
        "                plt.xlabel('Time [s]'); plt.ylabel(ylab); plt.title(title + (' (scaled)' if apply_scaling else ''))\n",
        "                plt.tight_layout(); plt.show()\n",
        "        else:\n",
        "            y, j = pick(component)\n",
        "            if y is None:\n",
        "                print(f\"{component} missing for plate {p+1}\")\n",
        "            else:\n",
        "                if apply_scaling: y = apply(y, j, True)\n",
        "                if component == 'Fz' and invert_fz: y = -y\n",
        "                ylab = (analog_units[j] if j < len(analog_units) else '')\n",
        "                title = f'Plate {p+1} {component}'\n",
        "                plt.figure(figsize=(10,3)); plt.plot(t_an, y); plt.grid(True, alpha=.3)\n",
        "                plt.xlabel('Time [s]'); plt.ylabel(ylab); plt.title(title + (' (scaled)' if apply_scaling else ''))\n",
        "                plt.tight_layout(); plt.show()\n",
        "\n",
        "elif mode == 'Marker POINT':\n",
        "    if marker_label not in point_labels:\n",
        "        print('Marker not found. Example labels:', point_labels[:10])\n",
        "    else:\n",
        "        plot_marker(c3d, marker_label, marker_axis)\n"
      ]
    },
    {
      "cell_type": "markdown",
      "id": "194b6ec8",
      "metadata": {
        "id": "194b6ec8"
      },
      "source": [
        "## How to use\n",
        "1. Run **Load the C3D** cell (ensuring `/content/Eb015pi.c3d` exists).\n",
        "2. Run **Cell 1 — Utilities** once.\n",
        "3. In **Cell 2 — Quickplot**, choose a `mode` and any options, then run the cell. No ipywidgets required.\n"
      ]
    },
    {
      "cell_type": "markdown",
      "id": "849d955c",
      "metadata": {
        "id": "849d955c"
      },
      "source": [
        "## Example: Minimal hands-on (uses the same fixed path)"
      ]
    },
    {
      "cell_type": "code",
      "execution_count": null,
      "id": "12ad20ec",
      "metadata": {
        "id": "12ad20ec"
      },
      "outputs": [],
      "source": [
        "# Step 1: (Optional) install\n",
        "# !pip install ezc3d\n",
        "import numpy as np, matplotlib.pyplot as plt\n",
        "import ezc3d\n",
        "from pathlib import Path\n",
        "\n",
        "# Step 2: Load the fixed C3D\n",
        "c3d_path = Path('/content/Eb015pi.c3d')\n",
        "assert c3d_path.exists(), 'Place Eb015pi.c3d at /content (from previous chapters).'\n",
        "c3d_ex = ezc3d.c3d(str(c3d_path))\n",
        "\n",
        "points = c3d_ex['data']['points']      # (4, n_markers, n_frames)\n",
        "analogs = c3d_ex['data']['analogs']    # (n_subframes, n_channels, n_frames)\n",
        "labels = c3d_ex['parameters']['POINT']['LABELS']['value']\n",
        "analog_labels = c3d_ex['parameters']['ANALOG']['LABELS']['value']\n",
        "\n",
        "# Step 3: Plot a marker trajectory (first marker)\n",
        "m = 0\n",
        "x, y, z = points[0, m, :], points[1, m, :], points[2, m, :]\n",
        "plt.figure(); plt.plot(x, label='X'); plt.plot(y, label='Y'); plt.plot(z, label='Z')\n",
        "plt.title(f'Marker trajectory: {labels[m]}'); plt.xlabel('Frame'); plt.ylabel('Position (mm)'); plt.legend(); plt.show()\n",
        "\n",
        "# Step 4: Plot first analog channel (force plate, if available)\n",
        "if analogs.size > 0:\n",
        "    sig = analogs[0, 0, :]\n",
        "    plt.figure(); plt.plot(sig); plt.title(f'Analog signal: {analog_labels[0] if len(analog_labels)>0 else \"Ch0\"}')\n",
        "    plt.xlabel('Frame'); plt.ylabel('Value'); plt.show()\n",
        "\n",
        "# Step 5: Toy cycle-normalized vertical GRF example (if label contains Fz)\n",
        "if len(analog_labels) > 0 and any('Fz' in str(l) for l in analog_labels):\n",
        "    # pick the first channel with 'Fz'\n",
        "    j = next(i for i,l in enumerate(analog_labels) if 'Fz' in str(l))\n",
        "    vGRF = analogs[0, j, :]\n",
        "    stride = vGRF[:min(200, vGRF.shape[0])]\n",
        "    stride_norm = np.linspace(0, 100, stride.shape[0])\n",
        "    plt.figure(); plt.plot(stride_norm, stride)\n",
        "    plt.title('Vertical GRF (one stride, normalized 0–100%)'); plt.xlabel('Gait Cycle (%)'); plt.ylabel('Force'); plt.show()\n"
      ]
    }
  ],
  "metadata": {
    "colab": {
      "provenance": []
    },
    "language_info": {
      "name": "python"
    },
    "kernelspec": {
      "name": "python3",
      "display_name": "Python 3"
    }
  },
  "nbformat": 4,
  "nbformat_minor": 5
}