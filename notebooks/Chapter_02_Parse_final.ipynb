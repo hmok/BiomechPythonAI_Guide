{
  "cells": [
    {
      "cell_type": "markdown",
      "id": "bbb219d0",
      "metadata": {
        "id": "bbb219d0"
      },
      "source": [
        "\n",
        "# Chapter 2 – Parse\n",
        "\n",
        "*(from “Biomechanics Data in Python: A Beginner’s Guide” by **Hossein Mokhtarzadeh, PhD**)*\n",
        "\n",
        "Visit **[PoseIQ.com](https://poseiq.com)** for tools and demos.  \n",
        "Follow and learn more:\n",
        "- Udemy courses: **[Hossein Mokhtarzadeh](https://www.udemy.com/user/hossein-mokhtarzadeh/)**  \n",
        "- Amazon book: **[AI Mastery Series](https://www.amazon.com.au/dp/B0DJSJ14VP)**  \n",
        "- LinkedIn: **[PoseIQ™](https://www.linkedin.com/company/poseiq/)**  \n",
        "- Demos (free and paid): **[PoseIQ Demos](https://sites.google.com/view/arengs/solutions/poseiq-demos)**\n",
        "\n",
        "---\n",
        "\n",
        "## From Chapter 1 to Chapter 2\n",
        "In Chapter 1 we focused on **bringing biomechanical data into Python** (C3D, TRC, CSV).  \n",
        "Here in Chapter 2, we **parse** that raw input into clean, labeled, analysis-ready signals.\n",
        "\n",
        "**Parsing goals**\n",
        "- Extract time, markers (e.g., Heel, Hip), and force-plate channels (e.g., vertical GRF)\n",
        "- Normalize units (mm → m; N → body weight)\n",
        "- Rename columns so they’re human-readable\n",
        "- Reduce noise (e.g., Butterworth low-pass filter)\n"
      ]
    },
    {
      "cell_type": "markdown",
      "source": [
        "##Step 0 – Extract C3D file from Chapter 1"
      ],
      "metadata": {
        "id": "K4FYTGN97hsP"
      },
      "id": "K4FYTGN97hsP"
    },
    {
      "cell_type": "code",
      "source": [
        "!pip install ezc3d pandas\n",
        "import urllib.request, zipfile, os\n",
        "\n",
        "os.makedirs(\"sample_data/c3d_zip\", exist_ok=True)\n",
        "\n",
        "url = \"https://www.c3d.org/data/Sample01.zip\"\n",
        "zip_path = \"sample_data/c3d_zip/sample_data.zip\"\n",
        "urllib.request.urlretrieve(url, zip_path)\n",
        "\n",
        "with zipfile.ZipFile(zip_path, 'r') as zip_ref:\n",
        "    zip_ref.extractall(\"sample_data/c3d_zip\")\n",
        "\n",
        "print(\"Extracted files in c3d_zip:\", os.listdir(\"sample_data/c3d_zip\"))\n",
        "\n",
        "# Step 2b – Download sample data\n",
        "import os, urllib.request, pathlib\n",
        "\n",
        "base_dir = pathlib.Path(\"sample_data/online\")\n",
        "base_dir.mkdir(parents=True, exist_ok=True)\n",
        "\n",
        "# Public example TRC (OpenSim subject01 gait trial)\n",
        "trc_url = \"https://raw.githubusercontent.com/opensim-org/opensim-models/master/Pipelines/Gait2354_Simbody/subject01_walk1.trc\"\n",
        "trc_path = base_dir / \"subject01_walk1.trc\"\n",
        "\n",
        "# Public example CSV (OptiTrack export in a robotics dataset)\n",
        "csv_url = \"https://raw.githubusercontent.com/JuSquare/ODA_Dataset/master/dataset/10/optitrack.csv\"\n",
        "csv_path = base_dir / \"optitrack.csv\"\n",
        "\n",
        "urllib.request.urlretrieve(trc_url, trc_path.as_posix())\n",
        "urllib.request.urlretrieve(csv_url, csv_path.as_posix())\n",
        "\n",
        "print(\"Downloaded:\", trc_path, \"and\", csv_path)\n",
        "\n",
        "\n",
        "# Step 3 – Load a C3D file\n",
        "import ezc3d, glob, os\n",
        "\n",
        "# Prefer a C3D from the downloaded zip; otherwise try any .c3d in subfolders\n",
        "c3d_candidates = glob.glob(\"sample_data/c3d_zip/*.c3d\") + glob.glob(\"sample_data/**/*.c3d\", recursive=True)\n",
        "assert c3d_candidates, \"No C3D file found!\"\n",
        "c3d_path = c3d_candidates[0]\n",
        "\n",
        "c3d = ezc3d.c3d(c3d_path)\n",
        "points = c3d[\"data\"][\"points\"]             # shape: 4 x n_markers x n_frames\n",
        "labels = list(c3d[\"parameters\"][\"POINT\"][\"LABELS\"][\"value\"])\n",
        "\n",
        "print(\"Loaded C3D:\", c3d_path)\n",
        "print(\"Point array shape:\", points.shape)\n",
        "print(\"Markers (first 8):\", labels[:8], \"...\")\n",
        "\n",
        "# Step 4 – Load CSV/TRC if present, else build DataFrame from C3D\n",
        "import pandas as pd\n",
        "import numpy as np\n",
        "import glob, os\n",
        "\n",
        "# Only look inside our dedicated 'online' folder to avoid accidental matches in Colab\n",
        "trc_list = glob.glob(\"sample_data/online/*.trc\")\n",
        "csv_list = glob.glob(\"sample_data/online/*.csv\")\n",
        "\n",
        "if trc_list:\n",
        "    trc_path = trc_list[0]\n",
        "    # TRC: tab-delimited; first 3 lines are header in many OpenSim examples\n",
        "    df_trc = pd.read_csv(trc_path, sep=\"\\t\", skiprows=3)\n",
        "    print(\"Loaded TRC from online folder:\", os.path.basename(trc_path))\n",
        "    display(df_trc.head())\n",
        "\n",
        "elif csv_list:\n",
        "    csv_path = csv_list[0]\n",
        "    df_csv = pd.read_csv(csv_path)\n",
        "    print(\"Loaded CSV from online folder:\", os.path.basename(csv_path))\n",
        "    display(df_csv.head())\n",
        "\n",
        "else:\n",
        "    # Build DataFrame directly from the C3D markers\n",
        "    n_markers, n_frames = points.shape[1], points.shape[2]\n",
        "    xyz = points[:3, :, :].transpose(2, 1, 0)   # frames × markers × (X,Y,Z)\n",
        "\n",
        "    axes = [\"X\", \"Y\", \"Z\"]\n",
        "    cols = pd.MultiIndex.from_product([labels, axes], names=[\"marker\", \"axis\"])\n",
        "\n",
        "    df_markers = pd.DataFrame(xyz.reshape(n_frames, n_markers*3), columns=cols)\n",
        "    df_markers.insert(0, \"frame\", np.arange(n_frames))\n",
        "\n",
        "    print(\"No TRC/CSV in online folder - built DataFrame from C3D points.\")\n",
        "    display(df_markers.head())\n",
        "\n",
        "\n",
        "\n",
        "# Optional – Load a single .c3d directly from a URL\n",
        "from urllib.request import urlretrieve\n",
        "\n",
        "# Replace with any direct .c3d URL you have:\n",
        "example_c3d_url = \"https://example.com/path/to/file.c3d\"\n",
        "local_c3d = \"sample_data/online/input_url_file.c3d\"\n",
        "\n",
        "# Uncomment when you have a working URL\n",
        "# urlretrieve(example_c3d_url, local_c3d)\n",
        "# c3d_direct = ezc3d.c3d(local_c3d)\n",
        "# print('Loaded from URL path:', local_c3d)\n"
      ],
      "metadata": {
        "id": "lOppEE3J7m0D"
      },
      "id": "lOppEE3J7m0D",
      "execution_count": null,
      "outputs": []
    },
    {
      "cell_type": "markdown",
      "id": "36283138",
      "metadata": {
        "id": "36283138"
      },
      "source": [
        "## Step 1 – Extract Time Signals"
      ]
    },
    {
      "cell_type": "code",
      "execution_count": null,
      "id": "71e38f8c",
      "metadata": {
        "id": "71e38f8c"
      },
      "outputs": [],
      "source": [
        "\n",
        "import numpy as np\n",
        "\n",
        "point_rate = float(c3d[\"parameters\"][\"POINT\"][\"RATE\"][\"value\"][0])\n",
        "n_frames   = int(c3d[\"data\"][\"points\"].shape[2])\n",
        "assert point_rate > 0 and n_frames > 0\n",
        "\n",
        "time = np.arange(n_frames, dtype=float) / point_rate\n",
        "print(\"Time vector length:\", len(time))\n"
      ]
    },
    {
      "cell_type": "markdown",
      "id": "8b292f71",
      "metadata": {
        "id": "8b292f71"
      },
      "source": [
        "## Step 2 – Extract Marker Positions"
      ]
    },
    {
      "cell_type": "code",
      "execution_count": null,
      "id": "78fb3a15",
      "metadata": {
        "id": "78fb3a15"
      },
      "outputs": [],
      "source": [
        "\n",
        "import pandas as pd\n",
        "\n",
        "marker_labels = list(c3d[\"parameters\"][\"POINT\"][\"LABELS\"][\"value\"])\n",
        "target_label  = \"RFT3\"   # change to your actual heel label\n",
        "\n",
        "if target_label in marker_labels:\n",
        "    heel_idx = marker_labels.index(target_label)\n",
        "else:\n",
        "    print(f\"Warning: {target_label} not found. Using first marker:\", marker_labels[0])\n",
        "    heel_idx = 0\n",
        "    target_label = marker_labels[0]\n",
        "\n",
        "heel_mm = c3d[\"data\"][\"points\"][:3, heel_idx, :].T\n",
        "df_markers_mm = pd.DataFrame(heel_mm, columns=[\"Heel_X_mm\", \"Heel_Y_mm\", \"Heel_Z_mm\"])\n",
        "df_markers_mm.head()\n"
      ]
    },
    {
      "cell_type": "markdown",
      "id": "67ed4375",
      "metadata": {
        "id": "67ed4375"
      },
      "source": [
        "## Step 3 – Extract Force Plate Channels"
      ]
    },
    {
      "cell_type": "code",
      "execution_count": null,
      "id": "985e4dad",
      "metadata": {
        "id": "985e4dad"
      },
      "outputs": [],
      "source": [
        "\n",
        "analog_labels = list(c3d[\"parameters\"][\"ANALOG\"][\"LABELS\"][\"value\"])\n",
        "wanted = \"FZ1\"\n",
        "\n",
        "if wanted in analog_labels:\n",
        "    fz_idx = analog_labels.index(wanted)\n",
        "    analog = c3d[\"data\"][\"analogs\"]\n",
        "    fz_per_frame = analog[:, fz_idx, :].mean(axis=0)   # one value per frame\n",
        "else:\n",
        "    print(f\"Warning: {wanted} not found. Available:\", analog_labels[:10], \"...\")\n",
        "    fz_per_frame = np.full(n_frames, np.nan, dtype=float)\n",
        "\n",
        "print(\"Fz length:\", len(fz_per_frame))\n"
      ]
    },
    {
      "cell_type": "markdown",
      "id": "0889c2b6",
      "metadata": {
        "id": "0889c2b6"
      },
      "source": [
        "## Step 4 – Normalize Units"
      ]
    },
    {
      "cell_type": "code",
      "execution_count": null,
      "id": "72b12cf5",
      "metadata": {
        "id": "72b12cf5"
      },
      "outputs": [],
      "source": [
        "\n",
        "g = 9.81\n",
        "body_mass_kg = 80.0\n",
        "\n",
        "df_markers_m = df_markers_mm.copy() / 1000.0\n",
        "df_markers_m.columns = [\"Heel_X\", \"Heel_Y\", \"Heel_Z\"]\n",
        "\n",
        "fz_bw = fz_per_frame / (body_mass_kg * g)\n"
      ]
    },
    {
      "cell_type": "markdown",
      "id": "e2a29225",
      "metadata": {
        "id": "e2a29225"
      },
      "source": [
        "## Step 5 – Filter Noise"
      ]
    },
    {
      "cell_type": "code",
      "execution_count": null,
      "id": "da903c1d",
      "metadata": {
        "id": "da903c1d"
      },
      "outputs": [],
      "source": [
        "\n",
        "from scipy.signal import butter, filtfilt\n",
        "\n",
        "cutoff_hz = 6.0\n",
        "nyq = point_rate / 2.0\n",
        "b, a = butter(4, cutoff_hz / nyq, btype=\"low\")\n",
        "\n",
        "heel_filt = filtfilt(b, a, df_markers_m[[\"Heel_X\",\"Heel_Y\",\"Heel_Z\"]].values, axis=0)\n",
        "df_markers_filt = pd.DataFrame(heel_filt, columns=[\"Heel_X\",\"Heel_Y\",\"Heel_Z\"])\n",
        "df_markers_filt.head()\n"
      ]
    },
    {
      "cell_type": "markdown",
      "id": "b33ae1a8",
      "metadata": {
        "id": "b33ae1a8"
      },
      "source": [
        "## Step 6 – Organize into a Clean DataFrame"
      ]
    },
    {
      "cell_type": "code",
      "execution_count": null,
      "id": "1b9ecfea",
      "metadata": {
        "id": "1b9ecfea"
      },
      "outputs": [],
      "source": [
        "\n",
        "def ensure_same_length(*arrays):\n",
        "    L = min(len(a) for a in arrays)\n",
        "    return [np.asarray(a)[:L] for a in arrays], L\n",
        "\n",
        "(arrs, L) = ensure_same_length(\n",
        "    time,\n",
        "    df_markers_filt[\"Heel_X\"].values,\n",
        "    df_markers_filt[\"Heel_Y\"].values,\n",
        "    df_markers_filt[\"Heel_Z\"].values,\n",
        "    fz_bw\n",
        ")\n",
        "time_a, hx_a, hy_a, hz_a, fz_a = arrs\n",
        "print(\"Aligned length:\", L)\n",
        "\n",
        "df = pd.DataFrame({\n",
        "    \"Time\": time_a,\n",
        "    \"Heel_X\": hx_a,\n",
        "    \"Heel_Y\": hy_a,\n",
        "    \"Heel_Z\": hz_a,\n",
        "    \"Fz_BW\": fz_a\n",
        "})\n",
        "df.head()\n"
      ]
    },
    {
      "cell_type": "markdown",
      "id": "5241a0da",
      "metadata": {
        "id": "5241a0da"
      },
      "source": [
        "\n",
        "---\n",
        "\n",
        "## Notes & Tips for Beginners\n",
        "- **Check labels**: Always print a slice of marker and analog labels before indexing, they vary by lab.\n",
        "- **Units**: ezc3d gives markers in mm, analog in volts or Newtons depending on file. Convert early and be consistent.\n",
        "- **Forces**: Decide whether you need per-subframe precision or just per-frame averages. For gait, per frame is fine.\n",
        "- **Filtering**: Use Butterworth for kinematics; forces often use higher cutoff (15–25 Hz for walking).  \n",
        "- **Save your parsed DataFrame**: `df.to_csv(\"parsed_ch2.csv\", index=False)` to reuse later.\n",
        "- **Plot often**: Heel_Z should oscillate smoothly, Fz_BW should peak near 1.0 per leg in walking.\n",
        "\n",
        "---\n",
        "**Credits**  \n",
        "Author: Hossein Mokhtarzadeh, PhD  \n",
        "PoseIQ.com | [Udemy](https://www.udemy.com/user/hossein-mokhtarzadeh/) | [Amazon](https://www.amazon.com.au/dp/B0DJSJ14VP) | [LinkedIn](https://www.linkedin.com/company/poseiq/)\n"
      ]
    }
  ],
  "metadata": {
    "colab": {
      "provenance": []
    },
    "language_info": {
      "name": "python"
    },
    "kernelspec": {
      "name": "python3",
      "display_name": "Python 3"
    }
  },
  "nbformat": 4,
  "nbformat_minor": 5
}