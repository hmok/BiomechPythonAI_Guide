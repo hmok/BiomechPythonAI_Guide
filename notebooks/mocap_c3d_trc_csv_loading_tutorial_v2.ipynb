{
 "cells": [
  {
   "cell_type": "markdown",
   "id": "676995af",
   "metadata": {},
   "source": [
    "# Motion Capture Data Loading Tutorial (C3D + online TRC/CSV)\n",
    "\n",
    "This notebook demonstrates:\n",
    "- Loading a sample **.c3d** file via `ezc3d` (downloaded from c3d.org)\n",
    "- Downloading **public TRC** and **CSV** examples from the web into a dedicated folder\n",
    "- Robust parsing logic that prefers your **downloaded examples** (so Colab's default files won't interfere)\n",
    "- A fallback to build a tidy marker table directly from the C3D if no TRC/CSV exist\n",
    "\n",
    "> Works in Google Colab and local Jupyter.\n"
   ]
  },
  {
   "cell_type": "markdown",
   "id": "769ca5a5",
   "metadata": {},
   "source": [
    "## Step 1 – Install packages"
   ]
  },
  {
   "cell_type": "code",
   "execution_count": null,
   "id": "ba655400",
   "metadata": {},
   "outputs": [],
   "source": [
    "!pip install ezc3d pandas"
   ]
  },
  {
   "cell_type": "markdown",
   "id": "c2cc514d",
   "metadata": {},
   "source": [
    "## Step 2a – Download a sample C3D archive"
   ]
  },
  {
   "cell_type": "code",
   "execution_count": null,
   "id": "d4adda3c",
   "metadata": {},
   "outputs": [],
   "source": [
    "import urllib.request, zipfile, os\n",
    "\n",
    "os.makedirs(\"sample_data/c3d_zip\", exist_ok=True)\n",
    "\n",
    "url = \"https://www.c3d.org/data/Sample01.zip\"\n",
    "zip_path = \"sample_data/c3d_zip/sample_data.zip\"\n",
    "urllib.request.urlretrieve(url, zip_path)\n",
    "\n",
    "with zipfile.ZipFile(zip_path, 'r') as zip_ref:\n",
    "    zip_ref.extractall(\"sample_data/c3d_zip\")\n",
    "\n",
    "print(\"Extracted files in c3d_zip:\", os.listdir(\"sample_data/c3d_zip\"))"
   ]
  },
  {
   "cell_type": "markdown",
   "id": "ab8ab6ba",
   "metadata": {},
   "source": [
    "## Step 2b – Download **online** TRC and CSV examples"
   ]
  },
  {
   "cell_type": "code",
   "execution_count": null,
   "id": "439fd47a",
   "metadata": {},
   "outputs": [],
   "source": [
    "import os, urllib.request, pathlib\n",
    "\n",
    "base_dir = pathlib.Path(\"sample_data/online\")\n",
    "base_dir.mkdir(parents=True, exist_ok=True)\n",
    "\n",
    "# Public example TRC (OpenSim subject01 gait trial)\n",
    "trc_url = \"https://raw.githubusercontent.com/opensim-org/opensim-models/master/Pipelines/Gait2354_Simbody/subject01_walk1.trc\"\n",
    "trc_path = base_dir / \"subject01_walk1.trc\"\n",
    "\n",
    "# Public example CSV (OptiTrack export in a robotics dataset)\n",
    "csv_url = \"https://raw.githubusercontent.com/JuSquare/ODA_Dataset/master/dataset/10/optitrack.csv\"\n",
    "csv_path = base_dir / \"optitrack.csv\"\n",
    "\n",
    "urllib.request.urlretrieve(trc_url, trc_path.as_posix())\n",
    "urllib.request.urlretrieve(csv_url, csv_path.as_posix())\n",
    "\n",
    "print(\"Downloaded:\", trc_path, \"and\", csv_path)"
   ]
  },
  {
   "cell_type": "markdown",
   "id": "aece8a97",
   "metadata": {},
   "source": [
    "## Step 3 – Load a C3D file"
   ]
  },
  {
   "cell_type": "code",
   "execution_count": null,
   "id": "3852df4a",
   "metadata": {},
   "outputs": [],
   "source": [
    "import ezc3d, glob, os\n",
    "\n",
    "# Prefer a C3D from the downloaded zip; otherwise try any .c3d in subfolders\n",
    "c3d_candidates = glob.glob(\"sample_data/c3d_zip/*.c3d\") + glob.glob(\"sample_data/**/*.c3d\", recursive=True)\n",
    "assert c3d_candidates, \"No C3D file found!\"\n",
    "c3d_path = c3d_candidates[0]\n",
    "\n",
    "c3d = ezc3d.c3d(c3d_path)\n",
    "points = c3d[\"data\"][\"points\"]             # shape: 4 x n_markers x n_frames\n",
    "labels = list(c3d[\"parameters\"][\"POINT\"][\"LABELS\"][\"value\"])\n",
    "\n",
    "print(\"Loaded C3D:\", c3d_path)\n",
    "print(\"Point array shape:\", points.shape)\n",
    "print(\"Markers (first 8):\", labels[:8], \"...\")"
   ]
  },
  {
   "cell_type": "markdown",
   "id": "f177801e",
   "metadata": {},
   "source": [
    "## Step 4 – Load TRC/CSV from the **online** folder; else build DataFrame from C3D"
   ]
  },
  {
   "cell_type": "code",
   "execution_count": null,
   "id": "c80ae815",
   "metadata": {},
   "outputs": [],
   "source": [
    "import pandas as pd\n",
    "import numpy as np\n",
    "import glob, os\n",
    "\n",
    "# Only look inside our dedicated 'online' folder to avoid accidental matches in Colab\n",
    "trc_list = glob.glob(\"sample_data/online/*.trc\")\n",
    "csv_list = glob.glob(\"sample_data/online/*.csv\")\n",
    "\n",
    "if trc_list:\n",
    "    trc_path = trc_list[0]\n",
    "    # TRC: tab-delimited; first 3 lines are header in many OpenSim examples\n",
    "    df_trc = pd.read_csv(trc_path, sep=\"\\t\", skiprows=3)\n",
    "    print(\"Loaded TRC from online folder:\", os.path.basename(trc_path))\n",
    "    display(df_trc.head())\n",
    "\n",
    "elif csv_list:\n",
    "    csv_path = csv_list[0]\n",
    "    df_csv = pd.read_csv(csv_path)\n",
    "    print(\"Loaded CSV from online folder:\", os.path.basename(csv_path))\n",
    "    display(df_csv.head())\n",
    "\n",
    "else:\n",
    "    # Build DataFrame directly from the C3D markers\n",
    "    n_markers, n_frames = points.shape[1], points.shape[2]\n",
    "    xyz = points[:3, :, :].transpose(2, 1, 0)   # frames × markers × (X,Y,Z)\n",
    "\n",
    "    axes = [\"X\", \"Y\", \"Z\"]\n",
    "    cols = pd.MultiIndex.from_product([labels, axes], names=[\"marker\", \"axis\"])\n",
    "\n",
    "    df_markers = pd.DataFrame(xyz.reshape(n_frames, n_markers*3), columns=cols)\n",
    "    df_markers.insert(0, \"frame\", np.arange(n_frames))\n",
    "\n",
    "    print(\"No TRC/CSV in online folder – built DataFrame from C3D points.\")\n",
    "    display(df_markers.head())"
   ]
  },
  {
   "cell_type": "markdown",
   "id": "a5c2c524",
   "metadata": {},
   "source": [
    "### Optional – Load a single `.c3d` directly from a URL"
   ]
  },
  {
   "cell_type": "code",
   "execution_count": null,
   "id": "8bf7733b",
   "metadata": {},
   "outputs": [],
   "source": [
    "from urllib.request import urlretrieve\n",
    "\n",
    "# Replace with any direct .c3d URL you have:\n",
    "example_c3d_url = \"https://example.com/path/to/file.c3d\"\n",
    "local_c3d = \"sample_data/online/input_url_file.c3d\"\n",
    "\n",
    "# Uncomment when you have a working URL\n",
    "# urlretrieve(example_c3d_url, local_c3d)\n",
    "# c3d_direct = ezc3d.c3d(local_c3d)\n",
    "# print('Loaded from URL path:', local_c3d)"
   ]
  },
  {
   "cell_type": "markdown",
   "id": "1a8e55fc",
   "metadata": {},
   "source": [
    "## Step 5 – Summary\n",
    "\n",
    "You can now:\n",
    "- Load `.c3d` files\n",
    "- Load **online TRC** and **online CSV** examples (downloaded into a dedicated folder to avoid collisions)\n",
    "- Fall back to a tidy marker table built from the C3D if needed\n"
   ]
  },
  {
   "cell_type": "markdown",
   "id": "b7e2b550",
   "metadata": {},
   "source": [
    "---\n",
    "\n",
    "## ⚠️ Note – Possible NumPy binary mismatch\n",
    "\n",
    "If you see:\n",
    "```\n",
    "ValueError: numpy.dtype size changed, may indicate binary incompatibility.\n",
    "```\n",
    "Run this **once**, then rerun the notebook from the top:\n"
   ]
  },
  {
   "cell_type": "code",
   "execution_count": null,
   "id": "f7ead695",
   "metadata": {},
   "outputs": [],
   "source": [
    "# One-time repair if you hit the NumPy binary mismatch in Colab/Jupyter\n",
    "!pip install --upgrade --force-reinstall \"numpy==1.26.4\" \"pandas==2.1.4\" \"ezc3d>=1.5.4\"\n",
    "\n",
    "import os\n",
    "print(\"Restarting runtime to load fresh binaries...\")\n",
    "os.kill(os.getpid(), 9)"
   ]
  }
 ],
 "metadata": {},
 "nbformat": 4,
 "nbformat_minor": 5
}