{
  "nbformat": 4,
  "nbformat_minor": 5,
  "metadata": {
    "colab": {
      "name": "Chapter05_Report_Colab.ipynb",
      "provenance": [],
      "collapsed_sections": []
    },
    "kernelspec": {
      "name": "python3",
      "display_name": "Python 3"
    }
  },
  "cells": [
    {
      "cell_type": "markdown",
      "metadata": {},
      "source": "# Chapter 5 \u00b7 Report\n\n*This notebook turns Chapter 4 visuals into shareable outputs: per-cycle metrics, clean figures, and a compact HTML+CSV report.*"
    },
    {
      "cell_type": "markdown",
      "metadata": {},
      "source": "**For Chapter 5: Report**\n\n(from \u201cBiomechanics Data in Python: A Beginner\u2019s Guide\u201d by Hossein Mokhtarzadeh, PhD)\n\nVisit PoseIQ.com for tools and demos.\n\nFollow and learn more:\n\n- Udemy courses: Hossein Mokhtarzadeh\n- Amazon book: AI Mastery Series\n- LinkedIn: PoseIQ\u2122\n- Demos (free and paid): PoseIQ Demos"
    },
    {
      "cell_type": "markdown",
      "metadata": {},
      "source": "## What you will do\n- Detect stance from force signals using the same guards as Chapter 4\n- Resample to cycle-normalized curves (0\u2013100%)\n- Compute per-cycle metrics that people actually use\n- Save time plots and overlays\n- Export a small report folder (CSV + HTML)\n\n> Assumes `c3d` is already in memory. If not, use the setup cell below."
    },
    {
      "cell_type": "markdown",
      "metadata": {},
      "source": "## Optional setup (run only if `c3d` is missing)"
    },
    {
      "cell_type": "code",
      "metadata": {
        "id": "a6fcac3f-1e22-42e7-930f-1d290677274e"
      },
      "execution_count": null,
      "outputs": [],
      "source": "# One-time setup (only if you did not run Chapter 2 here)\n# If `c3d` is already in your session, you can skip this cell.\n%pip -q install ezc3d pandas matplotlib ipywidgets\n\n# Pull helper notebooks from earlier chapters if needed\n!wget -q https://raw.githubusercontent.com/hmok/BiomechPythonAI_Guide/main/notebooks/Chapter1Input.py -O Chapter1Input.py\n!wget -q https://raw.githubusercontent.com/hmok/BiomechPythonAI_Guide/main/notebooks/Chapter2Input.py -O Chapter2Input.py\n%run Chapter1Input.py\n%run Chapter2Input.py\n\n# Quick check\ntry:\n    _ = c3d[\"data\"][\"points\"]\n    print(\"c3d is loaded.\")\nexcept Exception as e:\n    print(\"c3d was not found.\", e)\n"
    },
    {
      "cell_type": "markdown",
      "metadata": {},
      "source": "## Helpers (shape-safe and label-aware, same as Chapter 4)"
    },
    {
      "cell_type": "code",
      "metadata": {
        "id": "a90f1cb7-b6db-4c50-83fb-18fe43819549"
      },
      "execution_count": null,
      "outputs": [],
      "source": "import os, io, base64, json, math\nimport numpy as np\nimport pandas as pd\nimport matplotlib.pyplot as plt\n\nP = c3d[\"parameters\"]\n\ndef pval(g,k, default=None):\n    try:\n        return P[g][k][\"value\"]\n    except Exception:\n        return default\n\ndef get_rates():\n    pt_rate = float(pval(\"POINT\",\"RATE\",[np.nan])[0]) if pval(\"POINT\",\"RATE\",None) is not None else np.nan\n    an_rate = float(pval(\"ANALOG\",\"RATE\",[np.nan])[0]) if pval(\"ANALOG\",\"RATE\",None) is not None else np.nan\n    return pt_rate, an_rate\n\ndef reshape_analogs():\n    raw = c3d[\"data\"].get(\"analogs\", None)\n    if raw is None:\n        return np.zeros((0,0))\n    A = np.array(raw)\n    if A.ndim == 2:\n        return A\n    if A.ndim == 3:\n        if A.shape[0] < 16 and A.shape[1] > A.shape[0]:\n            return np.moveaxis(A, 0, -1).reshape(A.shape[1], -1)\n        return A.reshape(A.shape[0], -1)\n    return A.reshape(A.shape[0], -1)\n\ndef get_labels():\n    point_labels = pval(\"POINT\",\"LABELS\", []) or []\n    analog_labels = pval(\"ANALOG\",\"LABELS\", []) or []\n    analog_units  = pval(\"ANALOG\",\"UNITS\",  []) or []\n    return [str(x) for x in point_labels], [str(x) for x in analog_labels], [str(x) for x in analog_units]\n\ndef soft_detrend(y):\n    return y - np.nanmedian(y)\n\ndef ensure_positive_down(y):\n    pos_peak = np.nanpercentile(np.maximum(y, 0), 99)\n    neg_peak = np.nanpercentile(np.maximum(-y, 0), 99)\n    return y if pos_peak >= neg_peak else -y\n\ndef pick_fz_or_mag(an, labels):\n    fz_idx = [i for i,s in enumerate(labels) if \"fz\" in s.lower() or \"vf\" in s.lower()]\n    for i in fz_idx:\n        y = an[i].astype(float)\n        y = ensure_positive_down(soft_detrend(y))\n        if np.nanmax(np.abs(y)) > 1e-6:\n            return y, \"Fz\", i\n    fx = next((i for i,s in enumerate(labels) if \"fx\" in s.lower()), None)\n    fy = next((i for i,s in enumerate(labels) if \"fy\" in s.lower()), None)\n    fz = next((i for i,s in enumerate(labels) if \"fz\" in s.lower()), None)\n    if fx is not None and fy is not None and fz is not None:\n        mag = np.sqrt(an[fx]**2 + an[fy]**2 + an[fz]**2).astype(float)\n        return soft_detrend(mag), \"GRF magnitude\", (fx,fy,fz)\n    return None, None, None\n\ndef clean_contact_bool(x, min_len_samples):\n    x = x.astype(bool)\n    on  = np.where(np.diff(x.astype(int)) == 1)[0] + 1\n    off = np.where(np.diff(x.astype(int)) == -1)[0] + 1\n    if x[0]:  on  = np.r_[0, on]\n    if x[-1]: off = np.r_[off, len(x)]\n    y = x.copy()\n    for s,e in zip(on,off):\n        if e - s < min_len_samples:\n            y[s:e] = False\n    return y\n\ndef detect_stance_pairs(sig, an_rate, thr_frac=0.05, thr_abs_N=20.0, min_stance_s=0.15):\n    peak_est = np.nanpercentile(np.abs(sig), 98)\n    thr = max(thr_frac * peak_est, thr_abs_N)\n    contact = sig > thr\n    contact = clean_contact_bool(contact, int(min_stance_s * an_rate))\n    starts = np.where(np.diff(contact.astype(int)) == 1)[0] + 1\n    ends   = np.where(np.diff(contact.astype(int)) == -1)[0] + 1\n    if contact[0] and (len(ends) == len(starts) + 1): starts = np.r_[0, starts]\n    if contact[-1] and (len(starts) == len(ends) + 1): ends = np.r_[ends, len(contact)]\n    return [(s,e) for s,e in zip(starts,ends) if e > s]\n\ndef resample_cycle(y, s, e, n=101):\n    if e - s < 3:\n        return np.full(n, np.nan)\n    xs = np.linspace(s, e - 1, e - s)\n    xt = np.linspace(s, e - 1, n)\n    return np.interp(xt, xs, y[s:e])\n"
    },
    {
      "cell_type": "markdown",
      "metadata": {},
      "source": "## Metrics (per-cycle, beginner friendly)\nSet `MASS_KG` to get body-weight normalization."
    },
    {
      "cell_type": "code",
      "metadata": {
        "id": "5903fdeb-dd4d-485c-8b5c-4e3e886787a2"
      },
      "execution_count": null,
      "outputs": [],
      "source": "def per_cycle_metrics(sig, t, pairs, mass_kg=None):\n    rows = []\n    g = 9.81\n    for k,(s,e) in enumerate(pairs):\n        y = sig[s:e].astype(float)\n        tt = t[s:e].astype(float)\n        if len(y) < 3: \n            continue\n        peakN = float(np.nanmax(y))\n        target = 0.9 * peakN\n        rise_idx = np.argmax(y > max(1e-9, target))\n        rise_idx = max(int(rise_idx), 1)\n        lr = (y[rise_idx] - y[0]) / max(tt[rise_idx] - tt[0], 1e-6)\n        contact_time = float(tt[-1] - tt[0])\n        out = {\n            \"Cycle\": k+1,\n            \"PeakN\": peakN,\n            \"ContactTime_s\": contact_time,\n            \"LoadingRate_N_per_s\": lr,\n        }\n        if mass_kg and mass_kg > 0:\n            out[\"Peak_BW\"] = peakN / (mass_kg * g)\n            out[\"LoadingRate_BW_per_s\"] = lr / (mass_kg * g)\n        rows.append(out)\n    return pd.DataFrame(rows)\n\ndef cadence_from_pairs(pairs, an_rate):\n    if len(pairs) < 2:\n        return np.nan\n    starts = np.array([s for s,_ in pairs], dtype=float)\n    dur_s  = (starts[-1] - starts[0]) / an_rate\n    steps  = len(starts)\n    return 60.0 * steps / max(dur_s, 1e-6)\n"
    },
    {
      "cell_type": "markdown",
      "metadata": {},
      "source": "## Figures (time, cycles, bars, scatter)"
    },
    {
      "cell_type": "code",
      "metadata": {
        "id": "593e808b-3259-4d12-ba79-813d305c1725"
      },
      "execution_count": null,
      "outputs": [],
      "source": "def _save_fig(path):\n    os.makedirs(os.path.dirname(path), exist_ok=True)\n    plt.tight_layout()\n    plt.savefig(path, dpi=150, bbox_inches=\"tight\")\n    plt.show()\n\ndef fig_time_with_events(t, sig, pairs, title, ylabel, out_path):\n    plt.figure(figsize=(8,3))\n    plt.plot(t, sig, label=\"Signal\")\n    for s,e in pairs:\n        plt.axvspan(t[s], t[e-1], alpha=0.2, label=\"Stance\" if s==pairs[0][0] else None)\n    plt.xlabel(\"Time [s]\"); plt.ylabel(ylabel); plt.title(title); plt.grid(True, alpha=0.3)\n    if pairs: plt.legend()\n    _save_fig(out_path)\n\ndef fig_cycles_overlay(sig, pairs, npts, title, ylabel, out_path):\n    if not pairs:\n        return None\n    X = np.linspace(0,100,npts)\n    C = np.array([resample_cycle(sig, s, e, npts) for s,e in pairs])\n    meanC = np.nanmean(C, axis=0)\n    plt.figure(figsize=(8,3))\n    for i in range(C.shape[0]):\n        plt.plot(X, C[i], alpha=0.35)\n    plt.plot(X, meanC, linewidth=2, label=\"Mean\")\n    plt.xlabel(\"Gait cycle [%]\"); plt.ylabel(ylabel); plt.title(title); plt.grid(True, alpha=0.3); plt.legend()\n    _save_fig(out_path)\n    return C, meanC\n\ndef fig_bar_peaks(df, out_path):\n    if df is None or df.empty:\n        return\n    mean_peak = df[\"PeakN\"].mean() if \"PeakN\" in df else np.nan\n    plt.figure(figsize=(4,3))\n    plt.bar([\"All cycles\"], [mean_peak])\n    plt.ylabel(\"Peak [N]\")\n    plt.title(\"Peak GRF average\")\n    _save_fig(out_path)\n\ndef fig_scatter_peaks(df, out_path):\n    if df is None or df.empty:\n        return\n    plt.figure(figsize=(5,3))\n    plt.scatter(np.arange(len(df))+1, df[\"PeakN\"])\n    plt.xlabel(\"Cycle #\"); plt.ylabel(\"Peak [N]\"); plt.title(\"Per cycle peaks\")\n    plt.grid(True, alpha=0.3)\n    _save_fig(out_path)\n"
    },
    {
      "cell_type": "markdown",
      "metadata": {},
      "source": "## Report writer (CSV + HTML with embedded images)"
    },
    {
      "cell_type": "code",
      "metadata": {
        "id": "5c299f53-496b-4a31-b942-f8f24fddfc9f"
      },
      "execution_count": null,
      "outputs": [],
      "source": "def _img_to_base64(path):\n    with open(path, \"rb\") as f:\n        import base64\n        return \"data:image/png;base64,\" + base64.b64encode(f.read()).decode(\"ascii\")\n\ndef write_report(folder, meta, df_metrics, images):\n    os.makedirs(folder, exist_ok=True)\n    csv_path = os.path.join(folder, \"metrics.csv\")\n    df_metrics.to_csv(csv_path, index=False)\n\n    html_path = os.path.join(folder, \"report.html\")\n    with open(html_path, \"w\") as f:\n        f.write(\"<h1>Biomechanics Report</h1>\")\n        f.write(\"<h3>Summary</h3>\")\n        f.write(\"<pre>\"+json.dumps(meta, indent=2)+\"</pre>\")\n        f.write(\"<h3>Metrics</h3>\")\n        f.write(df_metrics.to_html(index=False))\n        for title, p in images:\n            if p and os.path.exists(p):\n                f.write(f\"<h3>{title}</h3>\")\n                f.write(f'<img src=\"{_img_to_base64(p)}\" style=\"max-width:900px;\">')\n    return {\"csv\": csv_path, \"html\": html_path}\n"
    },
    {
      "cell_type": "markdown",
      "metadata": {},
      "source": "## One-touch run\nSet `MASS_KG` if you want body-weight normalization."
    },
    {
      "cell_type": "code",
      "metadata": {
        "id": "55f19180-e735-406a-bb26-a0a9806fea3c"
      },
      "execution_count": null,
      "outputs": [],
      "source": "# Config\nOUTPUT = \"report_outputs\"\nCYCLE_NPTS = 101\nMASS_KG = None  # e.g., 75.0 for BW normalization\n\n# Data\npt_rate, an_rate = get_rates()\nan = reshape_analogs()\npoint_labels, analog_labels, analog_units = get_labels()\nsig, sig_name, src = pick_fz_or_mag(an, analog_labels)\n\nif sig is None or an.shape[1] == 0 or np.isnan(an_rate):\n    print(\"Could not build a reporting signal. Check analog labels and ANALOG.RATE.\")\nelse:\n    t_an = np.arange(an.shape[1]) / an_rate\n    pairs = detect_stance_pairs(sig, an_rate, thr_frac=0.05, thr_abs_N=20.0, min_stance_s=0.15)\n    print(f\"Detected {len(pairs)} stance phases using {sig_name}\")\n\n    # Metrics\n    df = per_cycle_metrics(sig, t_an, pairs, mass_kg=MASS_KG)\n    cad = cadence_from_pairs(pairs, an_rate)\n    meta = {\n        \"Signal\": sig_name,\n        \"AnalogRate_Hz\": float(an_rate) if not np.isnan(an_rate) else None,\n        \"Cycles\": int(len(pairs)),\n        \"Cadence_spm\": None if (cad is None or np.isnan(cad)) else float(cad),\n        \"BW_norm\": bool(MASS_KG is not None),\n    }\n\n    # Figures\n    fig1 = os.path.join(OUTPUT, \"time_with_stance.png\")\n    fig_time_with_events(t_an, sig, pairs, f\"{sig_name} over time\", f\"{sig_name}\", fig1)\n\n    cyc = fig_cycles_overlay(sig, pairs, CYCLE_NPTS, f\"{sig_name} cycles\", f\"{sig_name}\", os.path.join(OUTPUT, \"cycles_overlay.png\"))\n    fig_bar_peaks(df, os.path.join(OUTPUT, \"peaks_bar.png\"))\n    fig_scatter_peaks(df, os.path.join(OUTPUT, \"peaks_scatter.png\"))\n\n    # Bundle\n    imgs = [\n        (\"Time plot with stance\", fig1),\n        (\"Cycle overlay\", os.path.join(OUTPUT, \"cycles_overlay.png\")),\n        (\"Peak bar\", os.path.join(OUTPUT, \"peaks_bar.png\")),\n        (\"Peak scatter\", os.path.join(OUTPUT, \"peaks_scatter.png\")),\n    ]\n    out_paths = write_report(OUTPUT, meta, df, imgs)\n\n    print(\"Saved:\")\n    print(\" CSV:\", out_paths[\"csv\"])\n    print(\" HTML:\", out_paths[\"html\"])\n    if df.empty:\n        print(\"Note: no cycles with metrics. Adjust threshold or units if needed.\")\n"
    },
    {
      "cell_type": "markdown",
      "metadata": {},
      "source": "## Optional: Left vs Right symmetry (skips cleanly if channels missing)"
    },
    {
      "cell_type": "code",
      "metadata": {
        "id": "e57c5c4d-5033-4bd2-bcd9-1a07fe51ed95"
      },
      "execution_count": null,
      "outputs": [],
      "source": "labels_lower = [s.lower() for s in analog_labels]\ntry:\n    fz1 = an[labels_lower.index(next(s for s in labels_lower if \"fz1\" in s))]\n    fz2 = an[labels_lower.index(next(s for s in labels_lower if \"fz2\" in s))]\n    fz1 = ensure_positive_down(soft_detrend(fz1))\n    fz2 = ensure_positive_down(soft_detrend(fz2))\n\n    pairs_L = detect_stance_pairs(fz1, an_rate)\n    pairs_R = detect_stance_pairs(fz2, an_rate)\n\n    CYCLE_NPTS = 101\n    C_L = np.array([resample_cycle(fz1, s, e, CYCLE_NPTS) for s,e in pairs_L]) if pairs_L else np.empty((0, CYCLE_NPTS))\n    C_R = np.array([resample_cycle(fz2, s, e, CYCLE_NPTS) for s,e in pairs_R]) if pairs_R else np.empty((0, CYCLE_NPTS))\n\n    if C_L.size and C_R.size:\n        X = np.linspace(0,100,CYCLE_NPTS)\n        Lm = np.nanmean(C_L, axis=0); Rm = np.nanmean(C_R, axis=0)\n        plt.figure(figsize=(8,3))\n        plt.plot(X, Lm, label=\"Left\"); plt.plot(X, Rm, label=\"Right\")\n        plt.xlabel(\"Gait cycle [%]\"); plt.ylabel(\"Fz\"); plt.title(\"Symmetry overlay\"); plt.grid(True, alpha=0.3); plt.legend()\n        os.makedirs(OUTPUT, exist_ok=True)\n        plt.tight_layout(); plt.savefig(os.path.join(OUTPUT, \"symmetry_overlay.png\"), dpi=150, bbox_inches=\"tight\"); plt.show()\n        aL = np.trapz(Lm, x=X); aR = np.trapz(Rm, x=X)\n        if (aL + aR) != 0:\n            sym_idx = 100.0 * (aL - aR) / ((aL + aR) / 2.0)\n            print(f\"Symmetry index [%]: {sym_idx:.2f}\")\n    else:\n        print(\"Symmetry skipped, missing L or R cycles.\")\nexcept StopIteration:\n    print(\"Did not find explicit FZ1 or FZ2 labels, symmetry skipped.\")\n"
    }
  ]
}