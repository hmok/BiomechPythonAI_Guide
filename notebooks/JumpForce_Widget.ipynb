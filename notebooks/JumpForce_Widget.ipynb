{
 "cells": [
  {
   "cell_type": "markdown",
   "id": "2a6ef96b",
   "metadata": {},
   "source": [
    "\n",
    "# Jump Force (Interactive) — Colab Widget\n",
    "\n",
    "This notebook lets you play with a tiny **Gaussian model** of vertical ground reaction force (GRF) during a jump.  \n",
    "Use the sliders to change **peak**, **timing**, and **width** and see how the curve responds.\n"
   ]
  },
  {
   "cell_type": "code",
   "execution_count": null,
   "id": "8c0b89e4",
   "metadata": {},
   "outputs": [],
   "source": [
    "\n",
    "# If running on a fresh Colab, install Bokeh once:\n",
    "# (Safe to re-run; it will be a no-op if already installed.)\n",
    "%pip -q install bokeh\n"
   ]
  },
  {
   "cell_type": "code",
   "execution_count": null,
   "id": "56bbf533",
   "metadata": {},
   "outputs": [],
   "source": [
    "\n",
    "import numpy as np\n",
    "from bokeh.io import output_notebook, show\n",
    "from bokeh.plotting import figure\n",
    "from bokeh.models import ColumnDataSource, Slider, CustomJS, HoverTool\n",
    "from bokeh.layouts import column, row\n",
    "from bokeh.models import Div\n",
    "\n",
    "output_notebook()\n",
    "print(\"Bokeh ready.\")\n"
   ]
  },
  {
   "cell_type": "code",
   "execution_count": null,
   "id": "47feffc9",
   "metadata": {},
   "outputs": [],
   "source": [
    "\n",
    "# --- Interactive jump-force widget ---\n",
    "\n",
    "# time and initial force\n",
    "t = np.linspace(0, 1.5, 500)\n",
    "peak0, t_peak0, width0 = 1000, 0.5, 0.02\n",
    "force0 = peak0 * np.exp(-((t - t_peak0)**2) / width0)\n",
    "\n",
    "src = ColumnDataSource(data=dict(x=t, y=force0))\n",
    "\n",
    "p = figure(\n",
    "    height=340, width=700,\n",
    "    title=\"Jump Force (simple Gaussian model)\",\n",
    "    x_axis_label=\"Time (s)\", y_axis_label=\"Force (N)\",\n",
    "    toolbar_location=\"above\"\n",
    ")\n",
    "p.line(\"x\", \"y\", source=src, line_width=3)\n",
    "p.add_tools(HoverTool(tooltips=[(\"t\", \"@x{0.00} s\"), (\"Force\", \"@y{0.} N\")]))\n",
    "\n",
    "p.x_range.start, p.x_range.end = 0, 1.5\n",
    "p.y_range.start, p.y_range.end = 0, 1200\n",
    "\n",
    "# sliders\n",
    "peak = Slider(title=\"Peak force N\", start=200, end=2500, step=50, value=peak0)\n",
    "t_peak = Slider(title=\"Peak time s\", start=0.1, end=1.4, step=0.01, value=t_peak0)\n",
    "width = Slider(title=\"Width factor\", start=0.005, end=0.08, step=0.005, value=width0)\n",
    "\n",
    "# pure JS callback for instant updates in notebooks\n",
    "cb = CustomJS(args=dict(src=src, P=peak, TP=t_peak, W=width), code=\"\"\"\n",
    "  const x = src.data.x\n",
    "  const y = src.data.y\n",
    "  const Pv = P.value\n",
    "  const TPv = TP.value\n",
    "  const Wv = W.value\n",
    "  for (let i = 0; i < x.length; i++) {\n",
    "    const d = x[i] - TPv\n",
    "    y[i] = Pv * Math.exp(-(d*d)/Wv)\n",
    "  }\n",
    "  src.change.emit()\n",
    "\"\"\")\n",
    "\n",
    "for s in (peak, t_peak, width):\n",
    "    s.js_on_change(\"value\", cb)\n",
    "\n",
    "caption = Div(text=\"\"\"\n",
    "<b>Tip</b>: Drag sliders to see how peak size, timing, and curve width change the jump force profile.\n",
    "<br><b>If blank</b>: Re-run the previous cell, then this one.\n",
    "\"\"\")\n",
    "\n",
    "show(column(p, row(peak, t_peak, width), caption))\n"
   ]
  },
  {
   "cell_type": "code",
   "execution_count": null,
   "id": "f2b36714",
   "metadata": {},
   "outputs": [],
   "source": [
    "\n",
    "# --- Reset to defaults (optional) ---\n",
    "# Run this cell to restore the initial curve and slider values.\n",
    "peak.value = 1000\n",
    "t_peak.value = 0.5\n",
    "width.value = 0.02\n",
    "print(\"Reset complete.\")\n"
   ]
  },
  {
   "cell_type": "markdown",
   "id": "9f87f1cd",
   "metadata": {},
   "source": [
    "\n",
    "## Static fallback (non-interactive)\n",
    "\n",
    "If you’re exporting to PDF or the widget doesn’t render, use this tiny matplotlib plot to show the idea.\n"
   ]
  },
  {
   "cell_type": "code",
   "execution_count": null,
   "id": "428723e8",
   "metadata": {},
   "outputs": [],
   "source": [
    "\n",
    "import numpy as np, matplotlib.pyplot as plt\n",
    "\n",
    "t = np.linspace(0, 1.5, 500)\n",
    "peak, t_peak, width = 1000, 0.5, 0.02\n",
    "force = peak * np.exp(-((t - t_peak)**2) / width)\n",
    "\n",
    "plt.figure(figsize=(7,3))\n",
    "plt.plot(t, force, lw=2)\n",
    "plt.xlabel(\"Time (s)\"); plt.ylabel(\"Force (N)\")\n",
    "plt.title(\"Jump force model (static plot)\"); plt.tight_layout(); plt.show()\n"
   ]
  }
 ],
 "metadata": {},
 "nbformat": 4,
 "nbformat_minor": 5
}