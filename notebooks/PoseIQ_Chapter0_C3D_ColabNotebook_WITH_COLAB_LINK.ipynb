{
 "cells": [
  {
   "cell_type": "markdown",
   "id": "a4256675",
   "metadata": {},
   "source": [
    "[![Open In Colab](https://colab.research.google.com/assets/colab-badge.svg)](https://colab.research.google.com/github/PoseIQ/BiomechPythonAI_Guide/blob/main/PoseIQ_Chapter0_C3D_ColabNotebook_UPDATED.ipynb)"
   ]
  },
  {
   "cell_type": "markdown",
   "metadata": {
    "id": "bf147d93"
   },
   "source": [
    "# Chapter 0: Getting Started with C3D Files in Python and Colab\n",
    "\n",
    "**Ebook**: *A Hands-On Guide to Biomechanics Data Analysis with Python and AI*  \n",
    "**Author**: Dr. Hossein Mokhtarzadeh  \n",
    "**Powered by**: PoseIQ™\n",
    "\n",
    "Welcome to Chapter 0. This notebook will walk you through loading and visualizing biomechanics C3D files in Google Colab.\n",
    "\n",
    "We’ve been developing **PoseIQ™** tools for physio, human movement, and rehab using just a camera. This ebook and its companion course on **[Udemy](https://www.udemy.com/user/hossein-mokhtarzadeh/)** are designed to teach you by doing — no prior experience with C3D, Python, or Colab needed.\n",
    "\n",
    "📌 **Quick Start**: Just click `Runtime > Run all`, and you're good to go.  \n",
    "You'll download a sample C3D dataset, install the needed tools, load and plot your first force plate signal.\n",
    "\n",
    "🔗 [PoseIQ™ on LinkedIn](https://www.linkedin.com/company/poseiq/)  \n",
    "🔗 [Demo Page](https://poseiq.com/demos)  \n",
    "🔗 [poseiq.com](https://poseiq.com)\n"
   ]
  },
  {
   "cell_type": "markdown",
   "metadata": {
    "id": "pe7IOa5sfFGt"
   },
   "source": [
    "# Chapter 0: Getting Started with C3D Files in Python and Colab\n",
    "\n",
    "**Ebook**: *A Hands-On Guide to Biomechanics Data Analysis with Python and AI*  \n",
    "**Author**: Dr. Hossein Mokhtarzadeh  \n",
    "**Powered by**: PoseIQ™\n",
    "\n",
    "Welcome to Chapter 0. This notebook will walk you through loading and visualizing biomechanics C3D files in Google Colab.\n",
    "\n",
    "We’ve been developing **PoseIQ™** tools for physio, human movement, and rehab using just a camera. This ebook and its companion course on **Udemy** are designed to teach you by doing — no prior experience with C3D, Python, or Colab needed.\n",
    "\n",
    "📌 **Quick Start**: Just click `Runtime > Run all`, and you're good to go.  \n",
    "You'll download a sample C3D dataset, install the needed tools, load and plot your first force plate signal.\n",
    "\n",
    "🔗 [PoseIQ™ on LinkedIn](https://www.linkedin.com/company/poseiq/)  \n",
    "🔗 [Demo Page](https://poseiq.com/demos)  \n",
    "🔗 [poseiq.com](https://poseiq.com)\n"
   ]
  },
  {
   "cell_type": "code",
   "execution_count": null,
   "metadata": {
    "id": "wuMxAdJOQSdw"
   },
   "outputs": [],
   "source": [
    "!pip install ezc3d pandas numpy"
   ]
  },
  {
   "cell_type": "code",
   "execution_count": null,
   "metadata": {
    "id": "T3pEp_E8P36h"
   },
   "outputs": [],
   "source": [
    "# Step 1: Download and unzip\n",
    "import os, urllib.request, zipfile, sys, subprocess\n",
    "\n",
    "zip_url = \"https://c3d.org/data/Sample01.zip\"\n",
    "zip_path = \"Sample01.zip\"\n",
    "if not os.path.exists(\"c3d_samples\"):\n",
    "    urllib.request.urlretrieve(zip_url, zip_path)\n",
    "    with zipfile.ZipFile(zip_path, \"r\") as zf:\n",
    "        zf.extractall(\"c3d_samples\")\n",
    "\n",
    "# Step 2: Install ezc3d if missing\n",
    "try:\n",
    "    import ezc3d  # noqa\n",
    "except ImportError:\n",
    "    subprocess.run([sys.executable, \"-m\", \"pip\", \"install\", \"ezc3d\"], check=True)\n",
    "import ezc3d\n",
    "\n",
    "# Step 3: find all C3D files\n",
    "c3d_files = []\n",
    "for root, dirs, files in os.walk(\"c3d_samples\"):\n",
    "    for f in files:\n",
    "        if f.lower().endswith(\".c3d\"):\n",
    "            c3d_files.append(os.path.join(root, f))\n",
    "\n",
    "print(\"Found C3D files:\", c3d_files)\n",
    "\n",
    "# Step 4: load the first file that ezc3d supports and that has analogs\n",
    "loaded = None\n",
    "loaded_path = None\n",
    "errors = {}\n",
    "\n",
    "for path in c3d_files:\n",
    "    try:\n",
    "        c = ezc3d.c3d(path)\n",
    "        # check if any analog samples exist\n",
    "        analogs = c[\"data\"][\"analogs\"]\n",
    "        if analogs.size == 0:\n",
    "            # keep as fallback only if we never find one with analogs\n",
    "            if loaded is None:\n",
    "                loaded = c\n",
    "                loaded_path = path\n",
    "            continue\n",
    "        loaded = c\n",
    "        loaded_path = path\n",
    "        break\n",
    "    except Exception as e:\n",
    "        errors[path] = str(e)\n",
    "        continue\n",
    "\n",
    "if loaded is None:\n",
    "    raise RuntimeError(\n",
    "        \"Could not load a supported C3D. Last errors:\\n\" + \"\\n\".join(f\"{k}: {v}\" for k, v in errors.items())\n",
    "    )\n",
    "\n",
    "print(\"Loaded:\", loaded_path)\n",
    "\n",
    "# Step 5: plot the first analog channel if present\n",
    "import numpy as np\n",
    "import matplotlib.pyplot as plt\n",
    "\n",
    "params = loaded[\"parameters\"]\n",
    "has_analog = \"ANALOG\" in params and \"RATE\" in params[\"ANALOG\"]\n",
    "\n",
    "if has_analog and loaded[\"data\"][\"analogs\"].size > 0:\n",
    "    analog_labels = []\n",
    "    if \"LABELS\" in params[\"ANALOG\"]:\n",
    "        analog_labels = params[\"ANALOG\"][\"LABELS\"][\"value\"]\n",
    "\n",
    "    analogs = loaded[\"data\"][\"analogs\"]  # shape: (n_chan, n_subframes, n_frames)\n",
    "    n_chan, n_sub, n_fr = analogs.shape\n",
    "    idx = 0  # first channel\n",
    "\n",
    "    # flatten over time with frames then subframes\n",
    "    signal = analogs[idx].T.reshape(-1)  # shape (n_frames, n_subframes) -> flatten to 1D\n",
    "    rate = float(params[\"ANALOG\"][\"RATE\"][\"value\"][0])\n",
    "    t = np.arange(signal.size) / rate\n",
    "\n",
    "    label = analog_labels[idx] if analog_labels and idx < len(analog_labels) else f\"Channel {idx}\"\n",
    "\n",
    "    plt.figure()\n",
    "    plt.plot(t, signal)\n",
    "    plt.title(f\"Analog Channel: {label}\")\n",
    "    plt.xlabel(\"Time (s)\")\n",
    "    plt.ylabel(\"Signal\")\n",
    "    plt.grid(True)\n",
    "    plt.show()\n",
    "else:\n",
    "    print(\"No analog channels found in:\", loaded_path)\n",
    "    if errors:\n",
    "        print(\"Some files were skipped due to reader limits, for example:\")\n",
    "        for k, v in list(errors.items())[:3]:\n",
    "            print(\" \", k, \"->\", v)\n"
   ]
  },
  {
   "cell_type": "code",
   "execution_count": null,
   "metadata": {
    "id": "Kb7fJZX4Qh7p"
   },
   "outputs": [],
   "source": [
    "# Extract analog data\n",
    "analog_data = c['data']['analogs']\n",
    "\n",
    "# Extract analog labels\n",
    "analog_labels = c['parameters']['ANALOG']['LABELS']['value']\n",
    "\n",
    "print(\"Analog data shape:\", analog_data.shape)\n",
    "print(\"Analog labels:\", analog_labels)"
   ]
  },
  {
   "cell_type": "code",
   "execution_count": null,
   "metadata": {
    "id": "wxT_qJNPrjEX"
   },
   "outputs": [],
   "source": [
    "import pandas as pd\n",
    "\n",
    "# Transpose analog_data to have channels as columns and samples as rows\n",
    "# The first dimension is a batch dimension of size 1, so we can ignore it\n",
    "analog_data_transposed = analog_data[0].T\n",
    "\n",
    "# Create a pandas DataFrame\n",
    "df_analog = pd.DataFrame(analog_data_transposed)\n",
    "\n",
    "# Assign analog labels as column names\n",
    "df_analog.columns = analog_labels\n",
    "\n",
    "# Display the head of the DataFrame\n",
    "display(df_analog.head())"
   ]
  },
  {
   "cell_type": "code",
   "execution_count": null,
   "metadata": {
    "id": "tzY4zcPcsQPD"
   },
   "outputs": [],
   "source": [
    "display(df_analog.head())"
   ]
  },
  {
   "cell_type": "code",
   "execution_count": null,
   "metadata": {
    "id": "o0Qk15R2Q0hj"
   },
   "outputs": [],
   "source": [
    "def plot_analog_channel(df, column_name):\n",
    "    \"\"\"\n",
    "    Plots a specified analog channel from a DataFrame against time.\n",
    "\n",
    "    Args:\n",
    "        df (pd.DataFrame): The DataFrame containing analog data.\n",
    "        column_name (str): The name of the column (analog channel) to plot.\n",
    "    \"\"\"\n",
    "    # Calculate the time vector\n",
    "    analog_rate = c['parameters']['ANALOG']['RATE']['value']\n",
    "    t = np.arange(df.shape[0]) / analog_rate\n",
    "\n",
    "    # Create the plot\n",
    "    plt.figure(figsize=(10, 6))\n",
    "    plt.plot(t, df[column_name])\n",
    "\n",
    "    # Set title and labels\n",
    "    plt.title(f\"Analog Channel: {column_name}\")\n",
    "    plt.xlabel(\"Time (s)\")\n",
    "    plt.ylabel(\"Signal\")\n",
    "\n",
    "    # Add grid\n",
    "    plt.grid(True)\n",
    "\n",
    "    # Display the plot\n",
    "    plt.show()"
   ]
  },
  {
   "cell_type": "code",
   "execution_count": null,
   "metadata": {
    "id": "a682a013"
   },
   "outputs": [],
   "source": [
    "# Step 1: Print available columns\n",
    "print(\"\\nAvailable Analog Channels:\")\n",
    "for col in df_analog.columns:\n",
    "    print(f\"- {col}\")\n",
    "\n",
    "# Step 2 & 3: Prompt user and implement error handling\n",
    "selected_column = None\n",
    "while selected_column not in df_analog.columns:\n",
    "    selected_column = input(\"\\nEnter the name of the analog channel to plot: \")\n",
    "    if selected_column not in df_analog.columns:\n",
    "        print(\"Invalid column name. Please try again.\")\n",
    "\n",
    "print(f\"\\nYou selected: {selected_column}\")"
   ]
  },
  {
   "cell_type": "code",
   "execution_count": null,
   "metadata": {
    "id": "78f47721"
   },
   "outputs": [],
   "source": [
    "plot_analog_channel(df_analog, selected_column)"
   ]
  },
  {
   "cell_type": "markdown",
   "metadata": {
    "id": "c26fa926"
   },
   "source": [
    "## Summary:\n",
    "\n",
    "### Data Analysis Key Findings\n",
    "\n",
    "*   The zip file \"/content/Sample01.zip\" was successfully extracted to \"/content/unzipped_c3d_files\".\n",
    "*   Six C3D files were identified in the extracted directory.\n",
    "*   Analog data, including GRF information, was successfully extracted from all six C3D files.\n",
    "*   GRF data (columns starting with 'Force.F') was isolated from the analog data for each file.\n",
    "*   The GRF data from all files was combined into a single DataFrame, including a 'File' column to identify the source of each data point.\n",
    "*   A single plot was generated showing the 'Force.Fz' component (vertical GRF) over time for each of the six files.\n",
    "\n",
    "### Insights or Next Steps\n",
    "\n",
    "*   The generated plot provides a visual comparison of the vertical GRF profiles across different C3D files, which could be useful for identifying variations in gait or movement patterns.\n",
    "*   Further analysis could involve calculating peak GRF values, impulse, or other relevant metrics from the extracted data.\n"
   ]
  }
 ],
 "metadata": {
  "colab": {
   "provenance": []
  },
  "kernelspec": {
   "display_name": "Python 3",
   "name": "python3"
  },
  "language_info": {
   "name": "python"
  }
 },
 "nbformat": 4,
 "nbformat_minor": 0
}
