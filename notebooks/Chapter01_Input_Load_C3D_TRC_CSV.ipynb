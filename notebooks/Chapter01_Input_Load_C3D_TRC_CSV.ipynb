{
  "cells": [
    {
      "cell_type": "markdown",
      "id": "e81b29ff",
      "metadata": {
        "id": "e81b29ff"
      },
      "source": [
        "[![Open in Colab](https://colab.research.google.com/assets/colab-badge.svg)](YOUR_GITHUB_COLAB_URL_HERE)\n"
      ]
    },
    {
      "cell_type": "markdown",
      "id": "210d82ea",
      "metadata": {
        "id": "210d82ea"
      },
      "source": [
        "# Chapter 1, Input: Load C3D, TRC, and CSV in Google Colab\n",
        "\n",
        "Ebook: A Hands-On Guide to Biomechanics Data Analysis with Python and AI  \n",
        "Author: Dr. Hossein Mokhtarzadeh  \n",
        "Powered by PoseIQ™\n",
        "\n",
        "This notebook loads sample biomechanics data and shows how to bring it into Python.  \n",
        "Click Runtime → Run all.\n"
      ]
    },
    {
      "cell_type": "markdown",
      "id": "e6afaff5",
      "metadata": {
        "id": "e6afaff5"
      },
      "source": [
        "## Install packages"
      ]
    },
    {
      "cell_type": "code",
      "execution_count": null,
      "id": "3c7527c9",
      "metadata": {
        "id": "3c7527c9"
      },
      "outputs": [],
      "source": [
        "!pip -q install ezc3d pandas"
      ]
    },
    {
      "cell_type": "markdown",
      "id": "e15cfc8b",
      "metadata": {
        "id": "e15cfc8b"
      },
      "source": [
        "## Download sample data from c3d.org"
      ]
    },
    {
      "cell_type": "code",
      "execution_count": null,
      "id": "261f3fc2",
      "metadata": {
        "id": "261f3fc2"
      },
      "outputs": [],
      "source": [
        "import os, urllib.request, zipfile\n",
        "\n",
        "url = \"https://www.c3d.org/data/Sample01.zip\"\n",
        "zip_path = \"sample_data.zip\"\n",
        "urllib.request.urlretrieve(url, zip_path)\n",
        "\n",
        "os.makedirs(\"sample_data\", exist_ok=True)\n",
        "with zipfile.ZipFile(zip_path, 'r') as zf:\n",
        "    zf.extractall(\"sample_data\")\n",
        "\n",
        "print(\"Extracted files in sample_data\")\n",
        "for root, dirs, files in os.walk(\"sample_data\"):\n",
        "    for f in files:\n",
        "        print(os.path.join(root, f))\n"
      ]
    },
    {
      "cell_type": "markdown",
      "id": "b1d8e99b",
      "metadata": {
        "id": "b1d8e99b"
      },
      "source": [
        "## Load a C3D file with ezc3d"
      ]
    },
    {
      "cell_type": "code",
      "execution_count": null,
      "id": "008a4381",
      "metadata": {
        "id": "008a4381"
      },
      "outputs": [],
      "source": [
        "import os, ezc3d, numpy as np\n",
        "\n",
        "c3d_files = []\n",
        "for root, dirs, files in os.walk(\"sample_data\"):\n",
        "    for f in files:\n",
        "        if f.lower().endswith(\".c3d\"):\n",
        "            c3d_files.append(os.path.join(root, f))\n",
        "\n",
        "if not c3d_files:\n",
        "    raise FileNotFoundError(\"No C3D files found.\")\n",
        "\n",
        "c3d_path = c3d_files[0]\n",
        "print(\"Loading C3D:\", c3d_path)\n",
        "c3d = ezc3d.c3d(c3d_path)\n",
        "\n",
        "points = c3d[\"data\"][\"points\"]\n",
        "analogs = c3d[\"data\"][\"analogs\"]\n",
        "point_labels = c3d[\"parameters\"][\"POINT\"][\"LABELS\"][\"value\"]\n",
        "analog_labels = c3d[\"parameters\"][\"ANALOG\"][\"LABELS\"][\"value\"] if \"ANALOG\" in c3d[\"parameters\"] else []\n",
        "\n",
        "print(\"Points shape:\", points.shape)\n",
        "print(\"Analogs shape:\", analogs.shape if hasattr(analogs, \"shape\") else \"not available\")\n",
        "print(\"First 10 point labels:\", point_labels[:10])\n",
        "print(\"First 10 analog labels:\", analog_labels[:10] if analog_labels else [])\n"
      ]
    },
    {
      "cell_type": "markdown",
      "id": "336ace83",
      "metadata": {
        "id": "336ace83"
      },
      "source": [
        "## Plot the first analog channel if available"
      ]
    },
    {
      "cell_type": "code",
      "execution_count": null,
      "id": "bc81e961",
      "metadata": {
        "id": "bc81e961"
      },
      "outputs": [],
      "source": [
        "import matplotlib.pyplot as plt\n",
        "\n",
        "if isinstance(analogs, np.ndarray) and analogs.size > 0 and analog_labels:\n",
        "    analog_rate = float(c3d[\"parameters\"][\"ANALOG\"][\"RATE\"][\"value\"])\n",
        "    num_channels = analogs.shape[0]\n",
        "    num_frames = analogs.shape[2]\n",
        "    t = np.arange(num_frames) / analog_rate\n",
        "\n",
        "    plt.figure(figsize=(10, 4 * num_channels))  # Adjust figure size based on number of channels\n",
        "\n",
        "    for ch in range(num_channels):\n",
        "        y = analogs[ch, 0, :]  # Select data for a single channel and one component (assuming 1 component per channel)\n",
        "        plt.subplot(num_channels, 1, ch + 1) # Create subplots for each channel\n",
        "        plt.plot(t, y)\n",
        "        plt.xlabel(\"Time (s)\")\n",
        "        plt.ylabel(analog_labels[ch])\n",
        "\n",
        "        plt.title(f\"Analog quick plot - Channel {ch+1}: {analog_labels[ch]}\")\n",
        "        plt.grid(True)\n",
        "\n",
        "    plt.tight_layout() # Adjust layout to prevent overlapping titles/labels\n",
        "    plt.show()\n",
        "else:\n",
        "    print(\"No analog data available to plot.\")"
      ]
    },
    {
      "cell_type": "markdown",
      "id": "79b536ca",
      "metadata": {
        "id": "79b536ca"
      },
      "source": [
        "## Load a TRC or CSV into pandas"
      ]
    },
    {
      "cell_type": "code",
      "execution_count": null,
      "id": "70016283",
      "metadata": {
        "id": "70016283"
      },
      "outputs": [],
      "source": [
        "import pandas as pd\n",
        "\n",
        "trc_path, csv_path = None, None\n",
        "for root, dirs, files in os.walk(\"sample_data\"):\n",
        "    for f in files:\n",
        "        if f.lower().endswith(\".trc\") and trc_path is None:\n",
        "            trc_path = os.path.join(root, f)\n",
        "        if f.lower().endswith(\".csv\") and csv_path is None:\n",
        "            csv_path = os.path.join(root, f)\n",
        "\n",
        "df = None\n",
        "if trc_path:\n",
        "    print(\"Loading TRC:\", trc_path)\n",
        "    df = pd.read_csv(trc_path, sep=\"\\t\", skiprows=3, engine=\"python\")\n",
        "elif csv_path:\n",
        "    print(\"Loading CSV:\", csv_path)\n",
        "    df = pd.read_csv(csv_path)\n",
        "else:\n",
        "    print(\"No TRC or CSV found, creating an example DataFrame\")\n",
        "    df = pd.DataFrame({\n",
        "        \"Time\": [0.0, 0.01, 0.02, 0.03],\n",
        "        \"CoM_Z\": [0.88, 0.881, 0.879, 0.880]\n",
        "    })\n",
        "\n",
        "print(df.head())\n"
      ]
    },
    {
      "cell_type": "markdown",
      "id": "2198807d",
      "metadata": {
        "id": "2198807d"
      },
      "source": [
        "## Summary\n",
        "\n",
        "You can now:\n",
        "1. Load a C3D file with ezc3d  \n",
        "2. Preview analog channels and plot a quick signal  \n",
        "3. Load TRC or CSV into pandas and inspect the data\n",
        "\n",
        "Next, we will parse and clean the signals so they are analysis-ready.\n"
      ]
    }
  ],
  "metadata": {
    "colab": {
      "provenance": []
    },
    "language_info": {
      "name": "python"
    },
    "kernelspec": {
      "name": "python3",
      "display_name": "Python 3"
    }
  },
  "nbformat": 4,
  "nbformat_minor": 5
}