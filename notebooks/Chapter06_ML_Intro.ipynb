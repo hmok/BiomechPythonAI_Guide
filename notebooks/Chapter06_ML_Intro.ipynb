{
  "cells": [
    {
      "cell_type": "markdown",
      "id": "2b0fd234",
      "metadata": {
        "id": "2b0fd234"
      },
      "source": [
        "# Chapter 6, Intro to Machine Learning\n",
        "\n",
        "Ebook, A Hands-On Guide to Biomechanics Data Analysis with Python and AI  \n",
        "Author, Dr. Hossein Mokhtarzadeh  \n",
        "Powered by PoseIQ\n",
        "\n",
        "Goal, show a minimal but complete example of training and evaluating a model on biomechanics features.  \n",
        "Click Runtime, Run all.\n"
      ]
    },
    {
      "cell_type": "markdown",
      "id": "40ed2714",
      "metadata": {
        "id": "40ed2714"
      },
      "source": [
        "[![Open in Colab](https://colab.research.google.com/assets/colab-badge.svg)](YOUR_GITHUB_COLAB_URL_HERE)\n"
      ]
    },
    {
      "cell_type": "markdown",
      "id": "a99efd5c",
      "metadata": {
        "id": "a99efd5c"
      },
      "source": [
        "## Install packages"
      ]
    },
    {
      "cell_type": "code",
      "execution_count": 1,
      "id": "29e7036b",
      "metadata": {
        "id": "29e7036b"
      },
      "outputs": [],
      "source": [
        "!pip -q install scikit-learn pandas numpy matplotlib"
      ]
    },
    {
      "cell_type": "markdown",
      "id": "7d270d00",
      "metadata": {
        "id": "7d270d00"
      },
      "source": [
        "## Prepare a feature table"
      ]
    },
    {
      "cell_type": "code",
      "execution_count": 2,
      "id": "d1f38fee",
      "metadata": {
        "colab": {
          "base_uri": "https://localhost:8080/",
          "height": 206
        },
        "id": "d1f38fee",
        "outputId": "32c519d5-673b-4f99-8376-4c262474afda"
      },
      "outputs": [
        {
          "output_type": "execute_result",
          "data": {
            "text/plain": [
              "    peak_force  stride_time  symmetry_index  age    label  sprint_time\n",
              "0  1136.566050     1.090509        0.951019   30  healthy     2.189799\n",
              "1   975.201907     1.218898        0.969839   39  healthy     2.361400\n",
              "2  1190.054143     1.060870        1.001026   21  healthy     1.975942\n",
              "3  1212.867766     1.127273        0.940313   59  healthy     2.198314\n",
              "4   865.875777     0.803979        0.986058   51  healthy     2.208306"
            ],
            "text/html": [
              "\n",
              "  <div id=\"df-bba29ae3-bc1b-4cff-ab4c-6f70fb1e007d\" class=\"colab-df-container\">\n",
              "    <div>\n",
              "<style scoped>\n",
              "    .dataframe tbody tr th:only-of-type {\n",
              "        vertical-align: middle;\n",
              "    }\n",
              "\n",
              "    .dataframe tbody tr th {\n",
              "        vertical-align: top;\n",
              "    }\n",
              "\n",
              "    .dataframe thead th {\n",
              "        text-align: right;\n",
              "    }\n",
              "</style>\n",
              "<table border=\"1\" class=\"dataframe\">\n",
              "  <thead>\n",
              "    <tr style=\"text-align: right;\">\n",
              "      <th></th>\n",
              "      <th>peak_force</th>\n",
              "      <th>stride_time</th>\n",
              "      <th>symmetry_index</th>\n",
              "      <th>age</th>\n",
              "      <th>label</th>\n",
              "      <th>sprint_time</th>\n",
              "    </tr>\n",
              "  </thead>\n",
              "  <tbody>\n",
              "    <tr>\n",
              "      <th>0</th>\n",
              "      <td>1136.566050</td>\n",
              "      <td>1.090509</td>\n",
              "      <td>0.951019</td>\n",
              "      <td>30</td>\n",
              "      <td>healthy</td>\n",
              "      <td>2.189799</td>\n",
              "    </tr>\n",
              "    <tr>\n",
              "      <th>1</th>\n",
              "      <td>975.201907</td>\n",
              "      <td>1.218898</td>\n",
              "      <td>0.969839</td>\n",
              "      <td>39</td>\n",
              "      <td>healthy</td>\n",
              "      <td>2.361400</td>\n",
              "    </tr>\n",
              "    <tr>\n",
              "      <th>2</th>\n",
              "      <td>1190.054143</td>\n",
              "      <td>1.060870</td>\n",
              "      <td>1.001026</td>\n",
              "      <td>21</td>\n",
              "      <td>healthy</td>\n",
              "      <td>1.975942</td>\n",
              "    </tr>\n",
              "    <tr>\n",
              "      <th>3</th>\n",
              "      <td>1212.867766</td>\n",
              "      <td>1.127273</td>\n",
              "      <td>0.940313</td>\n",
              "      <td>59</td>\n",
              "      <td>healthy</td>\n",
              "      <td>2.198314</td>\n",
              "    </tr>\n",
              "    <tr>\n",
              "      <th>4</th>\n",
              "      <td>865.875777</td>\n",
              "      <td>0.803979</td>\n",
              "      <td>0.986058</td>\n",
              "      <td>51</td>\n",
              "      <td>healthy</td>\n",
              "      <td>2.208306</td>\n",
              "    </tr>\n",
              "  </tbody>\n",
              "</table>\n",
              "</div>\n",
              "    <div class=\"colab-df-buttons\">\n",
              "\n",
              "  <div class=\"colab-df-container\">\n",
              "    <button class=\"colab-df-convert\" onclick=\"convertToInteractive('df-bba29ae3-bc1b-4cff-ab4c-6f70fb1e007d')\"\n",
              "            title=\"Convert this dataframe to an interactive table.\"\n",
              "            style=\"display:none;\">\n",
              "\n",
              "  <svg xmlns=\"http://www.w3.org/2000/svg\" height=\"24px\" viewBox=\"0 -960 960 960\">\n",
              "    <path d=\"M120-120v-720h720v720H120Zm60-500h600v-160H180v160Zm220 220h160v-160H400v160Zm0 220h160v-160H400v160ZM180-400h160v-160H180v160Zm440 0h160v-160H620v160ZM180-180h160v-160H180v160Zm440 0h160v-160H620v160Z\"/>\n",
              "  </svg>\n",
              "    </button>\n",
              "\n",
              "  <style>\n",
              "    .colab-df-container {\n",
              "      display:flex;\n",
              "      gap: 12px;\n",
              "    }\n",
              "\n",
              "    .colab-df-convert {\n",
              "      background-color: #E8F0FE;\n",
              "      border: none;\n",
              "      border-radius: 50%;\n",
              "      cursor: pointer;\n",
              "      display: none;\n",
              "      fill: #1967D2;\n",
              "      height: 32px;\n",
              "      padding: 0 0 0 0;\n",
              "      width: 32px;\n",
              "    }\n",
              "\n",
              "    .colab-df-convert:hover {\n",
              "      background-color: #E2EBFA;\n",
              "      box-shadow: 0px 1px 2px rgba(60, 64, 67, 0.3), 0px 1px 3px 1px rgba(60, 64, 67, 0.15);\n",
              "      fill: #174EA6;\n",
              "    }\n",
              "\n",
              "    .colab-df-buttons div {\n",
              "      margin-bottom: 4px;\n",
              "    }\n",
              "\n",
              "    [theme=dark] .colab-df-convert {\n",
              "      background-color: #3B4455;\n",
              "      fill: #D2E3FC;\n",
              "    }\n",
              "\n",
              "    [theme=dark] .colab-df-convert:hover {\n",
              "      background-color: #434B5C;\n",
              "      box-shadow: 0px 1px 3px 1px rgba(0, 0, 0, 0.15);\n",
              "      filter: drop-shadow(0px 1px 2px rgba(0, 0, 0, 0.3));\n",
              "      fill: #FFFFFF;\n",
              "    }\n",
              "  </style>\n",
              "\n",
              "    <script>\n",
              "      const buttonEl =\n",
              "        document.querySelector('#df-bba29ae3-bc1b-4cff-ab4c-6f70fb1e007d button.colab-df-convert');\n",
              "      buttonEl.style.display =\n",
              "        google.colab.kernel.accessAllowed ? 'block' : 'none';\n",
              "\n",
              "      async function convertToInteractive(key) {\n",
              "        const element = document.querySelector('#df-bba29ae3-bc1b-4cff-ab4c-6f70fb1e007d');\n",
              "        const dataTable =\n",
              "          await google.colab.kernel.invokeFunction('convertToInteractive',\n",
              "                                                    [key], {});\n",
              "        if (!dataTable) return;\n",
              "\n",
              "        const docLinkHtml = 'Like what you see? Visit the ' +\n",
              "          '<a target=\"_blank\" href=https://colab.research.google.com/notebooks/data_table.ipynb>data table notebook</a>'\n",
              "          + ' to learn more about interactive tables.';\n",
              "        element.innerHTML = '';\n",
              "        dataTable['output_type'] = 'display_data';\n",
              "        await google.colab.output.renderOutput(dataTable, element);\n",
              "        const docLink = document.createElement('div');\n",
              "        docLink.innerHTML = docLinkHtml;\n",
              "        element.appendChild(docLink);\n",
              "      }\n",
              "    </script>\n",
              "  </div>\n",
              "\n",
              "\n",
              "    <div id=\"df-24cac730-5eac-4f71-a080-198bbab2d531\">\n",
              "      <button class=\"colab-df-quickchart\" onclick=\"quickchart('df-24cac730-5eac-4f71-a080-198bbab2d531')\"\n",
              "                title=\"Suggest charts\"\n",
              "                style=\"display:none;\">\n",
              "\n",
              "<svg xmlns=\"http://www.w3.org/2000/svg\" height=\"24px\"viewBox=\"0 0 24 24\"\n",
              "     width=\"24px\">\n",
              "    <g>\n",
              "        <path d=\"M19 3H5c-1.1 0-2 .9-2 2v14c0 1.1.9 2 2 2h14c1.1 0 2-.9 2-2V5c0-1.1-.9-2-2-2zM9 17H7v-7h2v7zm4 0h-2V7h2v10zm4 0h-2v-4h2v4z\"/>\n",
              "    </g>\n",
              "</svg>\n",
              "      </button>\n",
              "\n",
              "<style>\n",
              "  .colab-df-quickchart {\n",
              "      --bg-color: #E8F0FE;\n",
              "      --fill-color: #1967D2;\n",
              "      --hover-bg-color: #E2EBFA;\n",
              "      --hover-fill-color: #174EA6;\n",
              "      --disabled-fill-color: #AAA;\n",
              "      --disabled-bg-color: #DDD;\n",
              "  }\n",
              "\n",
              "  [theme=dark] .colab-df-quickchart {\n",
              "      --bg-color: #3B4455;\n",
              "      --fill-color: #D2E3FC;\n",
              "      --hover-bg-color: #434B5C;\n",
              "      --hover-fill-color: #FFFFFF;\n",
              "      --disabled-bg-color: #3B4455;\n",
              "      --disabled-fill-color: #666;\n",
              "  }\n",
              "\n",
              "  .colab-df-quickchart {\n",
              "    background-color: var(--bg-color);\n",
              "    border: none;\n",
              "    border-radius: 50%;\n",
              "    cursor: pointer;\n",
              "    display: none;\n",
              "    fill: var(--fill-color);\n",
              "    height: 32px;\n",
              "    padding: 0;\n",
              "    width: 32px;\n",
              "  }\n",
              "\n",
              "  .colab-df-quickchart:hover {\n",
              "    background-color: var(--hover-bg-color);\n",
              "    box-shadow: 0 1px 2px rgba(60, 64, 67, 0.3), 0 1px 3px 1px rgba(60, 64, 67, 0.15);\n",
              "    fill: var(--button-hover-fill-color);\n",
              "  }\n",
              "\n",
              "  .colab-df-quickchart-complete:disabled,\n",
              "  .colab-df-quickchart-complete:disabled:hover {\n",
              "    background-color: var(--disabled-bg-color);\n",
              "    fill: var(--disabled-fill-color);\n",
              "    box-shadow: none;\n",
              "  }\n",
              "\n",
              "  .colab-df-spinner {\n",
              "    border: 2px solid var(--fill-color);\n",
              "    border-color: transparent;\n",
              "    border-bottom-color: var(--fill-color);\n",
              "    animation:\n",
              "      spin 1s steps(1) infinite;\n",
              "  }\n",
              "\n",
              "  @keyframes spin {\n",
              "    0% {\n",
              "      border-color: transparent;\n",
              "      border-bottom-color: var(--fill-color);\n",
              "      border-left-color: var(--fill-color);\n",
              "    }\n",
              "    20% {\n",
              "      border-color: transparent;\n",
              "      border-left-color: var(--fill-color);\n",
              "      border-top-color: var(--fill-color);\n",
              "    }\n",
              "    30% {\n",
              "      border-color: transparent;\n",
              "      border-left-color: var(--fill-color);\n",
              "      border-top-color: var(--fill-color);\n",
              "      border-right-color: var(--fill-color);\n",
              "    }\n",
              "    40% {\n",
              "      border-color: transparent;\n",
              "      border-right-color: var(--fill-color);\n",
              "      border-top-color: var(--fill-color);\n",
              "    }\n",
              "    60% {\n",
              "      border-color: transparent;\n",
              "      border-right-color: var(--fill-color);\n",
              "    }\n",
              "    80% {\n",
              "      border-color: transparent;\n",
              "      border-right-color: var(--fill-color);\n",
              "      border-bottom-color: var(--fill-color);\n",
              "    }\n",
              "    90% {\n",
              "      border-color: transparent;\n",
              "      border-bottom-color: var(--fill-color);\n",
              "    }\n",
              "  }\n",
              "</style>\n",
              "\n",
              "      <script>\n",
              "        async function quickchart(key) {\n",
              "          const quickchartButtonEl =\n",
              "            document.querySelector('#' + key + ' button');\n",
              "          quickchartButtonEl.disabled = true;  // To prevent multiple clicks.\n",
              "          quickchartButtonEl.classList.add('colab-df-spinner');\n",
              "          try {\n",
              "            const charts = await google.colab.kernel.invokeFunction(\n",
              "                'suggestCharts', [key], {});\n",
              "          } catch (error) {\n",
              "            console.error('Error during call to suggestCharts:', error);\n",
              "          }\n",
              "          quickchartButtonEl.classList.remove('colab-df-spinner');\n",
              "          quickchartButtonEl.classList.add('colab-df-quickchart-complete');\n",
              "        }\n",
              "        (() => {\n",
              "          let quickchartButtonEl =\n",
              "            document.querySelector('#df-24cac730-5eac-4f71-a080-198bbab2d531 button');\n",
              "          quickchartButtonEl.style.display =\n",
              "            google.colab.kernel.accessAllowed ? 'block' : 'none';\n",
              "        })();\n",
              "      </script>\n",
              "    </div>\n",
              "\n",
              "    </div>\n",
              "  </div>\n"
            ],
            "application/vnd.google.colaboratory.intrinsic+json": {
              "type": "dataframe",
              "variable_name": "df",
              "summary": "{\n  \"name\": \"df\",\n  \"rows\": 200,\n  \"fields\": [\n    {\n      \"column\": \"peak_force\",\n      \"properties\": {\n        \"dtype\": \"number\",\n        \"std\": 105.83195261544226,\n        \"min\": 844.154446312243,\n        \"max\": 1449.6634959208795,\n        \"num_unique_values\": 200,\n        \"samples\": [\n          926.3465033092295,\n          996.8849044540113,\n          1356.9977121044553\n        ],\n        \"semantic_type\": \"\",\n        \"description\": \"\"\n      }\n    },\n    {\n      \"column\": \"stride_time\",\n      \"properties\": {\n        \"dtype\": \"number\",\n        \"std\": 0.12234058477096842,\n        \"min\": 0.7420009870882444,\n        \"max\": 1.3986080603088489,\n        \"num_unique_values\": 200,\n        \"samples\": [\n          1.0711814905646937,\n          1.1703309390365526,\n          0.8743869597795597\n        ],\n        \"semantic_type\": \"\",\n        \"description\": \"\"\n      }\n    },\n    {\n      \"column\": \"symmetry_index\",\n      \"properties\": {\n        \"dtype\": \"number\",\n        \"std\": 0.05082533394260293,\n        \"min\": 0.8117735581079174,\n        \"max\": 1.0898836863297916,\n        \"num_unique_values\": 200,\n        \"samples\": [\n          1.0067773562732574,\n          0.9698895040970926,\n          0.9079728030421232\n        ],\n        \"semantic_type\": \"\",\n        \"description\": \"\"\n      }\n    },\n    {\n      \"column\": \"age\",\n      \"properties\": {\n        \"dtype\": \"number\",\n        \"std\": 15,\n        \"min\": 18,\n        \"max\": 69,\n        \"num_unique_values\": 51,\n        \"samples\": [\n          24,\n          40,\n          28\n        ],\n        \"semantic_type\": \"\",\n        \"description\": \"\"\n      }\n    },\n    {\n      \"column\": \"label\",\n      \"properties\": {\n        \"dtype\": \"category\",\n        \"num_unique_values\": 2,\n        \"samples\": [\n          \"injured\",\n          \"healthy\"\n        ],\n        \"semantic_type\": \"\",\n        \"description\": \"\"\n      }\n    },\n    {\n      \"column\": \"sprint_time\",\n      \"properties\": {\n        \"dtype\": \"number\",\n        \"std\": 0.1396676093307258,\n        \"min\": 1.8557731614837731,\n        \"max\": 2.5326273679580136,\n        \"num_unique_values\": 200,\n        \"samples\": [\n          2.47417922899127,\n          2.246770064938408\n        ],\n        \"semantic_type\": \"\",\n        \"description\": \"\"\n      }\n    }\n  ]\n}"
            }
          },
          "metadata": {},
          "execution_count": 2
        }
      ],
      "source": [
        "import pandas as pd\n",
        "import numpy as np\n",
        "\n",
        "# If you already exported features in Chapter 5, you can load them here instead of using synthetic data.\n",
        "# Example expected columns: peak_force, stride_time, symmetry_index, label\n",
        "# Try uncommenting the line below if you have your own CSV.\n",
        "# df = pd.read_csv(\"report_outputs/your_features.csv\")\n",
        "\n",
        "# Synthetic biomechanics-like feature set for classification and regression\n",
        "rng = np.random.default_rng(42)\n",
        "n = 200\n",
        "\n",
        "# Simulate features with simple patterns\n",
        "peak_force = rng.normal(1100, 120, n)           # N\n",
        "stride_time = rng.normal(1.05, 0.12, n)         # s\n",
        "symmetry_index = rng.normal(0.96, 0.05, n)      # unitless proxy around 1.0\n",
        "age = rng.integers(18, 70, n)                   # years\n",
        "\n",
        "# Binary label: injured vs healthy, depends loosely on stride_time and symmetry_index\n",
        "injury_score = 0.7*(stride_time - 1.05) - 1.2*(symmetry_index - 0.96) + rng.normal(0, 0.15, n)\n",
        "label = np.where(injury_score > 0.0, \"injured\", \"healthy\")\n",
        "\n",
        "# Regression target, example predict 10 m sprint time from features\n",
        "sprint_time = 2.0 + 0.001*(1200 - peak_force) + 0.6*(stride_time - 1.0) + 0.4*(1.0 - symmetry_index) + 0.003*(age - 30) + rng.normal(0, 0.05, n)\n",
        "\n",
        "df = pd.DataFrame({\n",
        "    \"peak_force\": peak_force,\n",
        "    \"stride_time\": stride_time,\n",
        "    \"symmetry_index\": symmetry_index,\n",
        "    \"age\": age,\n",
        "    \"label\": label,\n",
        "    \"sprint_time\": sprint_time\n",
        "})\n",
        "df.head()\n"
      ]
    },
    {
      "cell_type": "markdown",
      "id": "44b38767",
      "metadata": {
        "id": "44b38767"
      },
      "source": [
        "## Train a classifier"
      ]
    },
    {
      "cell_type": "code",
      "execution_count": 3,
      "id": "7766cb5c",
      "metadata": {
        "colab": {
          "base_uri": "https://localhost:8080/"
        },
        "id": "7766cb5c",
        "outputId": "6994f1bd-f0ca-4b97-814b-8bf681ba743a"
      },
      "outputs": [
        {
          "output_type": "stream",
          "name": "stdout",
          "text": [
            "              precision    recall  f1-score   support\n",
            "\n",
            "     healthy       0.68      0.58      0.62        26\n",
            "     injured       0.61      0.71      0.65        24\n",
            "\n",
            "    accuracy                           0.64        50\n",
            "   macro avg       0.64      0.64      0.64        50\n",
            "weighted avg       0.65      0.64      0.64        50\n",
            "\n",
            "Confusion matrix,\n",
            "[[15 11]\n",
            " [ 7 17]]\n"
          ]
        }
      ],
      "source": [
        "from sklearn.model_selection import train_test_split\n",
        "from sklearn.ensemble import RandomForestClassifier\n",
        "from sklearn.metrics import classification_report, confusion_matrix\n",
        "\n",
        "features_cls = [\"peak_force\", \"stride_time\", \"symmetry_index\", \"age\"]\n",
        "X = df[features_cls]\n",
        "y = df[\"label\"]\n",
        "\n",
        "X_train, X_test, y_train, y_test = train_test_split(X, y, test_size=0.25, random_state=42, stratify=y)\n",
        "\n",
        "clf = RandomForestClassifier(n_estimators=200, random_state=42)\n",
        "clf.fit(X_train, y_train)\n",
        "y_pred = clf.predict(X_test)\n",
        "\n",
        "print(classification_report(y_test, y_pred))\n",
        "print(\"Confusion matrix,\")\n",
        "print(confusion_matrix(y_test, y_pred))\n"
      ]
    },
    {
      "cell_type": "markdown",
      "id": "6626b841",
      "metadata": {
        "id": "6626b841"
      },
      "source": [
        "## Plot feature importance"
      ]
    },
    {
      "cell_type": "code",
      "execution_count": 4,
      "id": "34284375",
      "metadata": {
        "colab": {
          "base_uri": "https://localhost:8080/",
          "height": 407
        },
        "id": "34284375",
        "outputId": "2b130f54-07e3-4b94-a25d-5ee2e13c484b"
      },
      "outputs": [
        {
          "output_type": "display_data",
          "data": {
            "text/plain": [
              "<Figure size 600x400 with 1 Axes>"
            ],
            "image/png": "[encoded data removed]"
          },
          "metadata": {}
        }
      ],
      "source": [
        "import matplotlib.pyplot as plt\n",
        "import numpy as np\n",
        "\n",
        "imp = clf.feature_importances_\n",
        "order = np.argsort(imp)[::-1]\n",
        "\n",
        "plt.figure(figsize=(6,4))\n",
        "plt.bar(range(len(order)), imp[order])\n",
        "plt.xticks(range(len(order)), np.array(features_cls)[order], rotation=0)\n",
        "plt.ylabel(\"Importance\")\n",
        "plt.title(\"Feature importance, classifier\")\n",
        "plt.tight_layout()\n",
        "plt.show()\n"
      ]
    },
    {
      "cell_type": "markdown",
      "id": "8219e15c",
      "metadata": {
        "id": "8219e15c"
      },
      "source": [
        "## Train a regressor"
      ]
    },
    {
      "cell_type": "code",
      "execution_count": 6,
      "id": "b6ff8405",
      "metadata": {
        "colab": {
          "base_uri": "https://localhost:8080/"
        },
        "id": "b6ff8405",
        "outputId": "a9db4a2f-6d54-41c0-bfeb-db7650a3ccbd"
      },
      "outputs": [
        {
          "output_type": "stream",
          "name": "stdout",
          "text": [
            "R2: 0.7271439152790266\n",
            "MAE: 0.050394864777767986\n",
            "RMSE: 0.06350812559554876\n"
          ]
        }
      ],
      "source": [
        "from sklearn.ensemble import RandomForestRegressor\n",
        "from sklearn.metrics import r2_score, mean_absolute_error, mean_squared_error\n",
        "import numpy as np\n",
        "\n",
        "features_reg = [\"peak_force\", \"stride_time\", \"symmetry_index\", \"age\"]\n",
        "Xr = df[features_reg]\n",
        "yr = df[\"sprint_time\"]\n",
        "\n",
        "Xr_train, Xr_test, yr_train, yr_test = train_test_split(Xr, yr, test_size=0.25, random_state=42)\n",
        "\n",
        "regr = RandomForestRegressor(n_estimators=300, random_state=42)\n",
        "regr.fit(Xr_train, yr_train)\n",
        "yr_pred = regr.predict(Xr_test)\n",
        "\n",
        "print(\"R2:\", r2_score(yr_test, yr_pred))\n",
        "print(\"MAE:\", mean_absolute_error(yr_test, yr_pred))\n",
        "print(\"RMSE:\", np.sqrt(mean_squared_error(yr_test, yr_pred)))"
      ]
    },
    {
      "cell_type": "markdown",
      "id": "35d3d2ff",
      "metadata": {
        "id": "35d3d2ff"
      },
      "source": [
        "## Plot predicted vs true for regression"
      ]
    },
    {
      "cell_type": "code",
      "execution_count": 7,
      "id": "b5cef497",
      "metadata": {
        "colab": {
          "base_uri": "https://localhost:8080/",
          "height": 607
        },
        "id": "b5cef497",
        "outputId": "b8018a06-f85e-41b8-a67b-a02877a06d6d"
      },
      "outputs": [
        {
          "output_type": "display_data",
          "data": {
            "text/plain": [
              "<Figure size 600x600 with 1 Axes>"
            ],
            "image/png": "[encoded data removed]"
          },
          "metadata": {}
        }
      ],
      "source": [
        "import matplotlib.pyplot as plt\n",
        "\n",
        "plt.figure(figsize=(6,6))\n",
        "plt.scatter(yr_test, yr_pred, s=18)\n",
        "plt.plot([yr_test.min(), yr_test.max()], [yr_test.min(), yr_test.max()])\n",
        "plt.xlabel(\"True sprint time s\")\n",
        "plt.ylabel(\"Predicted sprint time s\")\n",
        "plt.title(\"Regression, predicted vs true\")\n",
        "plt.tight_layout()\n",
        "plt.show()\n"
      ]
    },
    {
      "cell_type": "markdown",
      "id": "be50d232",
      "metadata": {
        "id": "be50d232"
      },
      "source": [
        "## Save a compact report"
      ]
    },
    {
      "cell_type": "code",
      "execution_count": 8,
      "id": "3068cc48",
      "metadata": {
        "colab": {
          "base_uri": "https://localhost:8080/"
        },
        "id": "3068cc48",
        "outputId": "11b80671-e9be-419d-f3fc-a56a396afe0b"
      },
      "outputs": [
        {
          "output_type": "stream",
          "name": "stdout",
          "text": [
            "Saved to ml_outputs/, models and features_table.csv\n"
          ]
        }
      ],
      "source": [
        "import os, json\n",
        "os.makedirs(\"ml_outputs\", exist_ok=True)\n",
        "\n",
        "# Save models and minimal metadata\n",
        "import joblib\n",
        "joblib.dump(clf, \"ml_outputs/classifier.joblib\")\n",
        "joblib.dump(regr, \"ml_outputs/regressor.joblib\")\n",
        "df.to_csv(\"ml_outputs/features_table.csv\", index=False)\n",
        "\n",
        "report = {\n",
        "    \"n_samples\": int(len(df)),\n",
        "    \"features_cls\": features_cls,\n",
        "    \"features_reg\": features_reg\n",
        "}\n",
        "with open(\"ml_outputs/README.json\", \"w\") as f:\n",
        "    json.dump(report, f, indent=2)\n",
        "\n",
        "print(\"Saved to ml_outputs/, models and features_table.csv\")\n"
      ]
    },
    {
      "cell_type": "markdown",
      "id": "129b2441",
      "metadata": {
        "id": "129b2441"
      },
      "source": [
        "## Summary\n",
        "\n",
        "You trained a simple classifier and regressor on biomechanics style features, plotted results, and saved outputs.  \n",
        "In a future book we will replace synthetic data with real features from Chapters 2 to 5 and cover validation, pipelines, and deep learning for time series.\n"
      ]
    }
  ],
  "metadata": {
    "colab": {
      "provenance": []
    },
    "language_info": {
      "name": "python"
    },
    "kernelspec": {
      "name": "python3",
      "display_name": "Python 3"
    }
  },
  "nbformat": 4,
  "nbformat_minor": 5
}