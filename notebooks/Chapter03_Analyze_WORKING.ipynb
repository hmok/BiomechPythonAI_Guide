{
  "cells": [
    {
      "cell_type": "markdown",
      "id": "782f48c0",
      "metadata": {
        "id": "782f48c0"
      },
      "source": [
        "# Chapter 3, Analyze\n",
        "\n",
        "Ebook, A Hands-On Guide to Biomechanics Data Analysis with Python and AI  \n",
        "Author, Dr. Hossein Mokhtarzadeh  \n",
        "Powered by PoseIQ\n",
        "\n",
        "Goal, detect gait events and compute basic metrics from parsed data.  \n",
        "Click Runtime, Run all.\n"
      ]
    },
    {
      "cell_type": "markdown",
      "id": "75ff2de1",
      "metadata": {
        "id": "75ff2de1"
      },
      "source": [
        "## Install packages"
      ]
    },
    {
      "cell_type": "code",
      "execution_count": null,
      "id": "e3bef4f9",
      "metadata": {
        "id": "e3bef4f9"
      },
      "outputs": [],
      "source": [
        "!pip -q install ezc3d pandas scipy matplotlib"
      ]
    },
    {
      "cell_type": "markdown",
      "id": "ab994afe",
      "metadata": {
        "id": "ab994afe"
      },
      "source": [
        "## Download and parse minimal data, same source as Chapter 2"
      ]
    },
    {
      "cell_type": "code",
      "execution_count": null,
      "id": "9df957ab",
      "metadata": {
        "id": "9df957ab"
      },
      "outputs": [],
      "source": [
        "import os, urllib.request, zipfile, numpy as np, pandas as pd, ezc3d\n",
        "\n",
        "def safe_download(url, out_path):\n",
        "    try:\n",
        "        urllib.request.urlretrieve(url, out_path)\n",
        "        return True\n",
        "    except Exception as e:\n",
        "        print(\"Download failed:\", e)\n",
        "        return False\n",
        "\n",
        "os.makedirs(\"sample_data\", exist_ok=True)\n",
        "zpath = \"sample_data.zip\"\n",
        "ok = safe_download(\"https://c3d.org/data/Sample00.zip\", zpath) or safe_download(\"https://www.c3d.org/data/Sample00.zip\", zpath) \\\n",
        "     or safe_download(\"https://c3d.org/data/Sample01.zip\", zpath) or safe_download(\"https://www.c3d.org/data/Sample01.zip\", zpath)\n",
        "\n",
        "if not ok:\n",
        "    raise RuntimeError(\"Could not download sample data from c3d.org. Upload a .c3d file to proceed.\")\n",
        "\n",
        "with zipfile.ZipFile(zpath, 'r') as zf:\n",
        "    zf.extractall(\"sample_data\")\n",
        "\n",
        "# Find C3D\n",
        "c3d_files = []\n",
        "for root, dirs, files in os.walk(\"sample_data\"):\n",
        "    for f in files:\n",
        "        if f.lower().endswith(\".c3d\"):\n",
        "            c3d_files.append(os.path.join(root, f))\n",
        "if not c3d_files:\n",
        "    raise FileNotFoundError(\"No .c3d files found after extraction.\")\n",
        "\n",
        "c3d_path = c3d_files[0]\n",
        "c3d = ezc3d.c3d(c3d_path)\n",
        "\n",
        "# Points and time\n",
        "points = c3d[\"data\"][\"points\"]\n",
        "point_rate = float(c3d[\"parameters\"][\"POINT\"][\"RATE\"][\"value\"][0]) if \"POINT\" in c3d[\"parameters\"] and \"RATE\" in c3d[\"parameters\"][\"POINT\"] else float(c3d[\"header\"][\"points\"][\"frame_rate\"])\n",
        "n_frames = points.shape[2]\n",
        "time = np.arange(n_frames) / point_rate\n",
        "\n",
        "# One marker, filtered\n",
        "from scipy.signal import butter, filtfilt\n",
        "def butter_lowpass(data, cutoff_hz, fs_hz, order=4, axis=-1):\n",
        "    nyq = 0.5 * fs_hz\n",
        "    b, a = butter(order, cutoff_hz/nyq, btype=\"low\")\n",
        "    return filtfilt(b, a, data, axis=axis)\n",
        "\n",
        "xyz = points[:3, 0, :].T / 1000.0\n",
        "xyz_f = butter_lowpass(xyz, 6, point_rate, order=4, axis=0)\n",
        "\n",
        "# Analogs\n",
        "analogs = c3d[\"data\"][\"analogs\"]\n",
        "has_analogs = isinstance(analogs, np.ndarray) and analogs.size > 0\n",
        "\n",
        "analog_rate = None\n",
        "analog_labels = []\n",
        "if \"ANALOG\" in c3d[\"parameters\"]:\n",
        "    parA = c3d[\"parameters\"][\"ANALOG\"]\n",
        "    if \"RATE\" in parA:\n",
        "        analog_rate = float(parA[\"RATE\"][\"value\"][0])\n",
        "    for k, v in parA.items():\n",
        "        if k.startswith(\"LABELS\"):\n",
        "            analog_labels.extend(list(v[\"value\"]))\n",
        "\n",
        "# Build df\n",
        "df = pd.DataFrame({\n",
        "    \"Time\": time,\n",
        "    \"Marker_Z\": xyz_f[:, 2]\n",
        "})\n",
        "\n",
        "# Attach one analog channel sampled to marker rate for convenience\n",
        "if has_analogs and analog_rate:\n",
        "    n_sub, n_analogs, n_frames_a = analogs.shape\n",
        "    # pick first channel\n",
        "    ch = 0\n",
        "    # if subframes align with point frames, take subframe 0\n",
        "    if int(round(analog_rate/point_rate)) == n_sub:\n",
        "        df[\"Analog\"] = analogs[0, ch, :][:len(df)]\n",
        "        analog_name = analog_labels[ch] if analog_labels else \"Analog\"\n",
        "    else:\n",
        "        # fallback, simple stride through flattened analog series\n",
        "        an2 = analogs.transpose(1,2,0).reshape(n_analogs, -1)\n",
        "        step = max(1, an2.shape[1] // len(df))\n",
        "        df[\"Analog\"] = an2[ch, ::step][:len(df)]\n",
        "        analog_name = analog_labels[ch] if analog_labels else \"Analog\"\n",
        "    df.rename(columns={\"Analog\": analog_name}, inplace=True)\n",
        "\n",
        "print(df.head())\n"
      ]
    },
    {
      "cell_type": "markdown",
      "id": "129c90d3",
      "metadata": {
        "id": "129c90d3"
      },
      "source": [
        "## Detect gait events from vertical force using adaptive threshold"
      ]
    },
    {
      "cell_type": "code",
      "execution_count": null,
      "id": "fbf92d03",
      "metadata": {
        "id": "fbf92d03"
      },
      "outputs": [],
      "source": [
        "import numpy as np\n",
        "\n",
        "force_col = None\n",
        "for col in df.columns:\n",
        "    if col.lower().startswith(\"fz\") or \"force\" in col.lower():\n",
        "        force_col = col\n",
        "        break\n",
        "if force_col is None:\n",
        "    # if we used generic analog name, use that\n",
        "    for col in df.columns:\n",
        "        if col not in [\"Time\", \"Marker_Z\"]:\n",
        "            force_col = col\n",
        "            break\n",
        "\n",
        "if force_col is None:\n",
        "    raise RuntimeError(\"No candidate force column found.\")\n",
        "\n",
        "y = df[force_col].values.astype(float)\n",
        "# adaptive threshold at 5 percent of max, avoids unit assumptions\n",
        "thr = 0.05 * np.nanmax(np.abs(y))\n",
        "contact = y > thr\n",
        "\n",
        "onsets = np.where((contact[1:] & ~contact[:-1]))[0] + 1\n",
        "offsets = np.where((~contact[1:] & contact[:-1]))[0] + 1\n",
        "\n",
        "heel_strikes = df[\"Time\"].values[onsets]\n",
        "toe_offs = df[\"Time\"].values[offsets]\n",
        "\n",
        "print(\"Detected heel strikes, s:\", heel_strikes[:10])\n",
        "print(\"Detected toe offs, s:\", toe_offs[:10])\n"
      ]
    },
    {
      "cell_type": "markdown",
      "id": "078fe1b6",
      "metadata": {
        "id": "078fe1b6"
      },
      "source": [
        "## Compute metrics, peak force (relative), stride time"
      ]
    },
    {
      "cell_type": "code",
      "execution_count": null,
      "id": "61c60767",
      "metadata": {
        "id": "61c60767"
      },
      "outputs": [],
      "source": [
        "import numpy as np\n",
        "\n",
        "peak_rel = np.nanmax(y) / (np.nanmax(y) if np.nanmax(y) != 0 else 1.0)\n",
        "print(f\"Relative peak of {force_col}: {peak_rel:.2f}\")\n",
        "\n",
        "if heel_strikes.size > 1:\n",
        "    stride_times = np.diff(heel_strikes)\n",
        "    print(f\"Average stride time, s: {np.mean(stride_times):.3f}\")\n",
        "else:\n",
        "    print(\"Not enough heel strikes to compute stride time\")\n"
      ]
    },
    {
      "cell_type": "markdown",
      "id": "e5ab1822",
      "metadata": {
        "id": "e5ab1822"
      },
      "source": [
        "## Savitzky Golay filter for marker smoothing, and Butterworth for force"
      ]
    },
    {
      "cell_type": "code",
      "execution_count": null,
      "id": "9a26dafb",
      "metadata": {
        "id": "9a26dafb"
      },
      "outputs": [],
      "source": [
        "from scipy.signal import savgol_filter, butter, filtfilt\n",
        "import matplotlib.pyplot as plt\n",
        "\n",
        "df[\"Marker_Z_sg\"] = savgol_filter(df[\"Marker_Z\"].values, window_length=11, polyorder=3)\n",
        "\n",
        "# Butterworth on force - only apply if force data exists\n",
        "if 'y' in locals() and y is not None:\n",
        "    b, a = butter(4, 20/(point_rate/2), btype=\"low\") if point_rate > 0 else (None, None)\n",
        "    if b is not None:\n",
        "        df[f\"{force_col}_filt\"] = filtfilt(b, a, y)\n",
        "    else:\n",
        "        df[f\"{force_col}_filt\"] = y\n",
        "\n",
        "    plt.figure(figsize=(10,4))\n",
        "    plt.plot(df[\"Time\"], y, label=f\"{force_col} raw\")\n",
        "    plt.plot(df[\"Time\"], df[f\"{force_col}_filt\"], label=f\"{force_col} filt\")\n",
        "    plt.xlabel(\"Time s\")\n",
        "    plt.ylabel(\"Force\")\n",
        "    plt.title(\"Vertical force channel\")\n",
        "    plt.legend()\n",
        "    plt.grid(True)\n",
        "    plt.show()\n",
        "else:\n",
        "    print(\"Skipping force data filtering and plotting: No force data available.\")\n",
        "\n",
        "\n",
        "plt.figure(figsize=(10,4))\n",
        "plt.plot(df[\"Time\"], df[\"Marker_Z\"], label=\"Marker_Z raw\")\n",
        "plt.plot(df[\"Time\"], df[\"Marker_Z_sg\"], label=\"Marker_Z sg\")\n",
        "plt.xlabel(\"Time s\")\n",
        "plt.ylabel(\"Marker Z m\")\n",
        "plt.title(\"Marker vertical position\")\n",
        "plt.legend()\n",
        "plt.grid(True)\n",
        "plt.show()"
      ]
    },
    {
      "cell_type": "markdown",
      "id": "7c41a55d",
      "metadata": {
        "id": "7c41a55d"
      },
      "source": [
        "## Segment cycles between heel strikes and compute average cycle for the force"
      ]
    },
    {
      "cell_type": "code",
      "execution_count": null,
      "id": "85c2ff22",
      "metadata": {
        "id": "85c2ff22"
      },
      "outputs": [],
      "source": [
        "import numpy as np\n",
        "\n",
        "def normalise_cycle(sig, t, t0, t1, n=100):\n",
        "    # extract segment between t0 and t1 and resample to n points\n",
        "    m = (t >= t0) & (t < t1)\n",
        "    if m.sum() < 2:\n",
        "        return None\n",
        "    seg = sig[m]\n",
        "    # normalise over 0..1\n",
        "    xp = np.linspace(0, 1, seg.size)\n",
        "    xnew = np.linspace(0, 1, n)\n",
        "    return np.interp(xnew, xp, seg)\n",
        "\n",
        "cycles = []\n",
        "for hs0, hs1 in zip(heel_strikes[:-1], heel_strikes[1:]):\n",
        "    c = normalise_cycle(df[f\"{force_col}_filt\"].values, df[\"Time\"].values, hs0, hs1, n=101)\n",
        "    if c is not None:\n",
        "        cycles.append(c)\n",
        "\n",
        "import matplotlib.pyplot as plt\n",
        "if cycles:\n",
        "    arr = np.vstack(cycles)\n",
        "    mean_cycle = np.nanmean(arr, axis=0)\n",
        "    plt.figure(figsize=(8,4))\n",
        "    for i in range(min(10, arr.shape[0])):\n",
        "        plt.plot(np.linspace(0,100,arr.shape[1]), arr[i], alpha=0.4)\n",
        "    plt.plot(np.linspace(0,100,arr.shape[1]), mean_cycle, linewidth=2)\n",
        "    plt.xlabel(\"Gait cycle percent\")\n",
        "    plt.ylabel(\"Force\")\n",
        "    plt.title(\"Normalised force cycles and mean\")\n",
        "    plt.grid(True)\n",
        "    plt.show()\n",
        "else:\n",
        "    print(\"No cycles available to plot. Check event detection.\")\n"
      ]
    },
    {
      "cell_type": "markdown",
      "id": "ee2a954b",
      "metadata": {
        "id": "ee2a954b"
      },
      "source": [
        "## Summary\n",
        "\n",
        "You detected events with an adaptive threshold, computed basic metrics, smoothed signals, and built mean cycles.  \n",
        "Next, we will visualise more signals and build reports.\n"
      ]
    }
  ],
  "metadata": {
    "colab": {
      "provenance": []
    },
    "language_info": {
      "name": "python"
    },
    "kernelspec": {
      "name": "python3",
      "display_name": "Python 3"
    }
  },
  "nbformat": 4,
  "nbformat_minor": 5
}