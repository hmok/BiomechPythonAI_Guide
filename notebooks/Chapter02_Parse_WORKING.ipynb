{
  "cells": [
    {
      "cell_type": "markdown",
      "id": "931bd80d",
      "metadata": {
        "id": "931bd80d"
      },
      "source": [
        "# Chapter 2, Parse\n",
        "\n",
        "Ebook, A Hands-On Guide to Biomechanics Data Analysis with Python and AI  \n",
        "Author, Dr. Hossein Mokhtarzadeh  \n",
        "Powered by PoseIQ\n",
        "\n",
        "Goal, turn raw files into clear, labeled data you can analyze.  \n",
        "Click Runtime, Run all.\n"
      ]
    },
    {
      "cell_type": "markdown",
      "id": "8a0d0b26",
      "metadata": {
        "id": "8a0d0b26"
      },
      "source": [
        "## Install packages"
      ]
    },
    {
      "cell_type": "code",
      "execution_count": 1,
      "id": "61a6ae95",
      "metadata": {
        "colab": {
          "base_uri": "https://localhost:8080/"
        },
        "id": "61a6ae95",
        "outputId": "36452479-a3d2-4409-8f3d-c676f52e0fee"
      },
      "outputs": [
        {
          "output_type": "stream",
          "name": "stdout",
          "text": [
            "\u001b[2K     \u001b[90m━━━━━━━━━━━━━━━━━━━━━━━━━━━━━━━━━━━━━━━━\u001b[0m \u001b[32m49.6/49.6 kB\u001b[0m \u001b[31m2.9 MB/s\u001b[0m eta \u001b[36m0:00:00\u001b[0m\n",
            "\u001b[2K   \u001b[90m━━━━━━━━━━━━━━━━━━━━━━━━━━━━━━━━━━━━━━━━\u001b[0m \u001b[32m1.2/1.2 MB\u001b[0m \u001b[31m29.0 MB/s\u001b[0m eta \u001b[36m0:00:00\u001b[0m\n",
            "\u001b[?25h"
          ]
        }
      ],
      "source": [
        "!pip -q install ezc3d pandas scipy matplotlib"
      ]
    },
    {
      "cell_type": "markdown",
      "id": "eea47b50",
      "metadata": {
        "id": "eea47b50"
      },
      "source": [
        "## Download sample data from c3d.org, with fallback"
      ]
    },
    {
      "cell_type": "code",
      "execution_count": 2,
      "id": "a60e126c",
      "metadata": {
        "colab": {
          "base_uri": "https://localhost:8080/"
        },
        "id": "a60e126c",
        "outputId": "5ef9eaac-8df1-4405-dd82-6975a0644311"
      },
      "outputs": [
        {
          "output_type": "stream",
          "name": "stdout",
          "text": [
            "Downloading https://c3d.org/data/Sample00.zip\n",
            "Extracted sample_data\n",
            "Found: sample_data/mnist_train_small.csv\n",
            "Found: sample_data/california_housing_test.csv\n",
            "Found: sample_data/california_housing_train.csv\n",
            "Found: sample_data/mnist_test.csv\n",
            "Found: sample_data/NexGen Ergonomics/test1.c3d\n",
            "Found: sample_data/Codamotion/codamotion_gaitwands_19970212.c3d\n",
            "Found: sample_data/Codamotion/codamotion_gaitwands_20150204.c3d\n",
            "Found: sample_data/Cometa Systems/EMG Data Cometa.c3d\n",
            "Found: sample_data/Motion Analysis Corporation/Sample_Jump2.c3d\n",
            "Found: sample_data/Motion Analysis Corporation/Walk1.c3d\n",
            "Found: sample_data/Vicon Motion Systems/pyCGM2 lower limb CGM24 Walking01.c3d\n",
            "Found: sample_data/Vicon Motion Systems/TableTennis.c3d\n",
            "Found: sample_data/Advanced Realtime Tracking GmbH/arthuman-sample-fingers.c3d\n",
            "Found: sample_data/Advanced Realtime Tracking GmbH/arthuman-sample.c3d\n",
            "Found: sample_data/Innovative Sports Training/Static Pose.c3d\n",
            "Found: sample_data/Innovative Sports Training/Gait with EMG.c3d\n"
          ]
        }
      ],
      "source": [
        "import os, urllib.request, zipfile, sys\n",
        "\n",
        "def download_zip(url, out_path):\n",
        "    try:\n",
        "        print(\"Downloading\", url)\n",
        "        urllib.request.urlretrieve(url, out_path)\n",
        "        return True\n",
        "    except Exception as e:\n",
        "        print(\"Download failed:\", e)\n",
        "        return False\n",
        "\n",
        "os.makedirs(\"sample_data\", exist_ok=True)\n",
        "zpath = \"sample_data.zip\"\n",
        "\n",
        "# Try Sample00 then Sample01 as fallback\n",
        "ok = download_zip(\"https://c3d.org/data/Sample00.zip\", zpath)\n",
        "if not ok:\n",
        "    ok = download_zip(\"https://www.c3d.org/data/Sample00.zip\", zpath)\n",
        "if not ok:\n",
        "    ok = download_zip(\"https://c3d.org/data/Sample01.zip\", zpath)\n",
        "if not ok:\n",
        "    ok = download_zip(\"https://www.c3d.org/data/Sample01.zip\", zpath)\n",
        "\n",
        "if not ok:\n",
        "    print(\"Could not download sample data from c3d.org, please upload a .c3d file to the notebook runtime\")\n",
        "else:\n",
        "    with zipfile.ZipFile(zpath, 'r') as zf:\n",
        "        zf.extractall(\"sample_data\")\n",
        "    print(\"Extracted sample_data\")\n",
        "    for root, dirs, files in os.walk(\"sample_data\"):\n",
        "        for f in files:\n",
        "            if f.lower().endswith((\".c3d\", \".trc\", \".csv\")):\n",
        "                print(\"Found:\", os.path.join(root, f))\n"
      ]
    },
    {
      "cell_type": "markdown",
      "id": "68d18a2f",
      "metadata": {
        "id": "68d18a2f"
      },
      "source": [
        "## Load a C3D file with ezc3d"
      ]
    },
    {
      "cell_type": "code",
      "execution_count": 3,
      "id": "a0520072",
      "metadata": {
        "colab": {
          "base_uri": "https://localhost:8080/"
        },
        "id": "a0520072",
        "outputId": "f57dd86e-d4b8-481a-ae6a-6dcef01583c4"
      },
      "outputs": [
        {
          "output_type": "stream",
          "name": "stdout",
          "text": [
            "Loading C3D: sample_data/NexGen Ergonomics/test1.c3d\n",
            "Number of markers: 40\n",
            "First 10 marker labels: ['C7', 'CLAV', 'LANK', 'LASI', 'LBHD', 'LELB', 'LFHD', 'LFIN', 'LFRA', 'LHEE']\n"
          ]
        }
      ],
      "source": [
        "import numpy as np\n",
        "import ezc3d, os\n",
        "\n",
        "# Find a C3D file recursively\n",
        "c3d_files = []\n",
        "for root, dirs, files in os.walk(\"sample_data\"):\n",
        "    for f in files:\n",
        "        if f.lower().endswith(\".c3d\"):\n",
        "            c3d_files.append(os.path.join(root, f))\n",
        "\n",
        "if not c3d_files:\n",
        "    raise FileNotFoundError(\"No .c3d files found in sample_data. Upload a .c3d file and try again.\")\n",
        "\n",
        "c3d_path = c3d_files[0]\n",
        "print(\"Loading C3D:\", c3d_path)\n",
        "c3d = ezc3d.c3d(c3d_path)\n",
        "\n",
        "points = c3d[\"data\"][\"points\"]   # shape, (4, n_points, n_frames)\n",
        "n_points = points.shape[1]\n",
        "n_frames = points.shape[2]\n",
        "\n",
        "# Rates\n",
        "point_rate = float(c3d[\"parameters\"][\"POINT\"][\"RATE\"][\"value\"][0]) if \"POINT\" in c3d[\"parameters\"] and \"RATE\" in c3d[\"parameters\"][\"POINT\"] else float(c3d[\"header\"][\"points\"][\"frame_rate\"])\n",
        "time_points = np.arange(n_frames) / point_rate\n",
        "\n",
        "# Marker labels\n",
        "marker_labels = list(c3d[\"parameters\"][\"POINT\"][\"LABELS\"][\"value\"]) if \"POINT\" in c3d[\"parameters\"] and \"LABELS\" in c3d[\"parameters\"][\"POINT\"] else [f\"M{i}\" for i in range(n_points)]\n",
        "print(\"Number of markers:\", n_points)\n",
        "print(\"First 10 marker labels:\", marker_labels[:10])\n"
      ]
    },
    {
      "cell_type": "markdown",
      "id": "2a303f0f",
      "metadata": {
        "id": "2a303f0f"
      },
      "source": [
        "## Extract and filter one marker position, mm to m"
      ]
    },
    {
      "cell_type": "code",
      "execution_count": 5,
      "id": "0fea6215",
      "metadata": {
        "colab": {
          "base_uri": "https://localhost:8080/"
        },
        "id": "0fea6215",
        "outputId": "a14995d1-1011-4b6d-c515-95a6d7b5a370"
      },
      "outputs": [
        {
          "output_type": "stream",
          "name": "stdout",
          "text": [
            "Warning: Data length (3) is too short for filtering with order 4. Skipping filtering.\n",
            "Filtered marker shape: (721, 3)\n"
          ]
        }
      ],
      "source": [
        "from scipy.signal import butter, filtfilt\n",
        "\n",
        "# Pick a marker by name if available, fallback to first\n",
        "preferred_names = [\"RHEE\", \"RHEEL\", \"Heel\", \"RHEE1\", \"HEE\", \"HEE_R\"]\n",
        "marker_idx = 0\n",
        "for name in preferred_names:\n",
        "    if name in marker_labels:\n",
        "        marker_idx = marker_labels.index(name)\n",
        "        break\n",
        "\n",
        "xyz = points[:3, marker_idx, :].T       # shape, (frames, 3)\n",
        "xyz_m = xyz / 1000.0                     # mm to m\n",
        "\n",
        "# Low pass filter, 6 Hz for kinematics\n",
        "def butter_lowpass(data, cutoff_hz, fs_hz, order=4, axis=-1):\n",
        "    nyq = 0.5 * fs_hz\n",
        "    b, a = butter(order, cutoff_hz/nyq, btype=\"low\")\n",
        "    # Check if data is long enough for filtering\n",
        "    padlen = 3 * order\n",
        "    if data.shape[axis] <= padlen:\n",
        "        print(f\"Warning: Data length ({data.shape[axis]}) is too short for filtering with order {order}. Skipping filtering.\")\n",
        "        return data  # Return original data if too short\n",
        "    return filtfilt(b, a, data, axis=axis)\n",
        "\n",
        "xyz_filt = butter_lowpass(xyz_m, cutoff_hz=6, fs_hz=point_rate, order=4)\n",
        "print(\"Filtered marker shape:\", xyz_filt.shape)"
      ]
    },
    {
      "cell_type": "markdown",
      "id": "ca00c749",
      "metadata": {
        "id": "ca00c749"
      },
      "source": [
        "## Extract analog data and labels, build analog time vector"
      ]
    },
    {
      "cell_type": "code",
      "execution_count": 6,
      "id": "078923bd",
      "metadata": {
        "colab": {
          "base_uri": "https://localhost:8080/"
        },
        "id": "078923bd",
        "outputId": "9d239823-f70c-4561-af7f-3cf4e3810515"
      },
      "outputs": [
        {
          "output_type": "stream",
          "name": "stdout",
          "text": [
            "No analog data or analog rate found\n"
          ]
        }
      ],
      "source": [
        "# Analogs shape in ezc3d is (n_subframes, n_analogs, n_frames)\n",
        "analogs = c3d[\"data\"][\"analogs\"]\n",
        "has_analogs = isinstance(analogs, np.ndarray) and analogs.size > 0\n",
        "\n",
        "analog_labels = []\n",
        "analog_rate = None\n",
        "if \"ANALOG\" in c3d[\"parameters\"]:\n",
        "    par_analog = c3d[\"parameters\"][\"ANALOG\"]\n",
        "    # Collect LABELS, LABELS2, LABELS3 if present\n",
        "    for k, v in par_analog.items():\n",
        "        if k.startswith(\"LABELS\"):\n",
        "            analog_labels.extend(list(v[\"value\"]))\n",
        "    if \"RATE\" in par_analog:\n",
        "        analog_rate = float(par_analog[\"RATE\"][\"value\"][0])\n",
        "\n",
        "if has_analogs and analog_rate:\n",
        "    n_sub, n_analogs, n_frames_a = analogs.shape\n",
        "    # reshape to 2D time series, channels x samples\n",
        "    analogs_2d = analogs.transpose(1, 2, 0).reshape(n_analogs, n_frames_a*n_sub)\n",
        "    t_analog = np.arange(analogs_2d.shape[1]) / analog_rate\n",
        "    print(\"Analog channels:\", n_analogs, \"Analog rate:\", analog_rate, \"Hz\")\n",
        "    print(\"First 10 analog labels:\", analog_labels[:10])\n",
        "else:\n",
        "    print(\"No analog data or analog rate found\")\n"
      ]
    },
    {
      "cell_type": "markdown",
      "id": "3c704c59",
      "metadata": {
        "id": "3c704c59"
      },
      "source": [
        "## Create a tidy DataFrame with time, one marker, and one analog"
      ]
    },
    {
      "cell_type": "code",
      "execution_count": 7,
      "id": "f4b9b382",
      "metadata": {
        "colab": {
          "base_uri": "https://localhost:8080/"
        },
        "id": "f4b9b382",
        "outputId": "1d7bdaec-86de-40c8-e197-ab70797c68a5"
      },
      "outputs": [
        {
          "output_type": "stream",
          "name": "stdout",
          "text": [
            "       Time  Marker_X  Marker_Y  Marker_Z\n",
            "0  0.000000 -0.000038  0.000039  0.000084\n",
            "1  0.007812 -0.000038  0.000039  0.000084\n",
            "2  0.015625 -0.000038  0.000039  0.000084\n",
            "3  0.023438 -0.000038  0.000039  0.000084\n",
            "4  0.031250 -0.000038  0.000039  0.000084\n",
            "            Time      Marker_X      Marker_Y      Marker_Z\n",
            "count  721.00000  7.210000e+02  7.210000e+02  7.210000e+02\n",
            "mean     2.81250 -3.772756e-05  3.897516e-05  8.351731e-05\n",
            "std      1.62718  5.085726e-19  5.763823e-19  6.780968e-19\n",
            "min      0.00000 -3.772756e-05  3.897516e-05  8.351731e-05\n",
            "25%      1.40625 -3.772756e-05  3.897516e-05  8.351731e-05\n",
            "50%      2.81250 -3.772756e-05  3.897516e-05  8.351731e-05\n",
            "75%      4.21875 -3.772756e-05  3.897516e-05  8.351731e-05\n",
            "max      5.62500 -3.772756e-05  3.897516e-05  8.351731e-05\n"
          ]
        }
      ],
      "source": [
        "import pandas as pd\n",
        "\n",
        "df = pd.DataFrame({\n",
        "    \"Time\": time_points,\n",
        "    \"Marker_X\": xyz_filt[:, 0],\n",
        "    \"Marker_Y\": xyz_filt[:, 1],\n",
        "    \"Marker_Z\": xyz_filt[:, 2],\n",
        "})\n",
        "\n",
        "# Add one analog channel if available\n",
        "if has_analogs and analog_rate:\n",
        "    # choose first channel if labels are missing\n",
        "    ch = 0\n",
        "    analog_name = analog_labels[ch] if analog_labels and ch < len(analog_labels) else \"Analog_0\"\n",
        "    # resample analog to marker time by simple decimation if rates are divisible\n",
        "    n_sub = int(round(analog_rate/point_rate)) if point_rate > 0 else 1\n",
        "    if n_sub >= 1 and analogs.ndim == 3 and analogs.shape[0] == n_sub:\n",
        "        # take subframe 0 to match frames, simple choice for quick view\n",
        "        analog_match = analogs[0, ch, :]\n",
        "        df[analog_name] = analog_match[:len(df)]\n",
        "    else:\n",
        "        # fallback, take a simple equally spaced slice from full-rate analog\n",
        "        analogs_2d = analogs.transpose(1, 2, 0).reshape(analogs.shape[1], -1)\n",
        "        step = max(1, analogs_2d.shape[1] // len(df))\n",
        "        analog_match = analogs_2d[ch, ::step][:len(df)]\n",
        "        df[analog_name] = analog_match\n",
        "\n",
        "print(df.head())\n",
        "print(df.describe())\n"
      ]
    },
    {
      "cell_type": "markdown",
      "id": "dbfeb0b7",
      "metadata": {
        "id": "dbfeb0b7"
      },
      "source": [
        "## Quick plots"
      ]
    },
    {
      "cell_type": "code",
      "execution_count": 8,
      "id": "8ec57885",
      "metadata": {
        "colab": {
          "base_uri": "https://localhost:8080/",
          "height": 410
        },
        "id": "8ec57885",
        "outputId": "2a7eee32-a7a1-42f9-d034-f4a89b6c983d"
      },
      "outputs": [
        {
          "output_type": "display_data",
          "data": {
            "text/plain": [
              "<Figure size 800x400 with 1 Axes>"
            ],
            "image/png": "[encoded data removed]"
          },
          "metadata": {}
        }
      ],
      "source": [
        "import matplotlib.pyplot as plt\n",
        "\n",
        "plt.figure(figsize=(8,4))\n",
        "plt.plot(df[\"Time\"], df[\"Marker_Z\"])\n",
        "plt.xlabel(\"Time s\")\n",
        "plt.ylabel(\"Marker Z m\")\n",
        "plt.title(\"Filtered marker Z\")\n",
        "plt.grid(True)\n",
        "plt.show()\n",
        "\n",
        "# Plot analog if present\n",
        "for col in df.columns:\n",
        "    if col not in [\"Time\", \"Marker_X\", \"Marker_Y\", \"Marker_Z\"]:\n",
        "        plt.figure(figsize=(8,4))\n",
        "        plt.plot(df[\"Time\"], df[col])\n",
        "        plt.xlabel(\"Time s\")\n",
        "        plt.ylabel(col)\n",
        "        plt.title(f\"{col}\")\n",
        "        plt.grid(True)\n",
        "        plt.show()\n",
        "        break\n"
      ]
    },
    {
      "cell_type": "markdown",
      "id": "c26b7adf",
      "metadata": {
        "id": "c26b7adf"
      },
      "source": [
        "## Summary\n",
        "\n",
        "You now have a clean table with, time, marker position in meters, and one analog channel.  \n",
        "Next, we will analyze events and compute gait metrics.\n"
      ]
    }
  ],
  "metadata": {
    "colab": {
      "provenance": []
    },
    "language_info": {
      "name": "python"
    },
    "kernelspec": {
      "name": "python3",
      "display_name": "Python 3"
    }
  },
  "nbformat": 4,
  "nbformat_minor": 5
}