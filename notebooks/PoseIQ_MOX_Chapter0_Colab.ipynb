{
  "cells": [
    {
      "cell_type": "markdown",
      "id": "c75d19f8",
      "metadata": {
        "id": "c75d19f8"
      },
      "source": [
        "# PoseIQ MOX and C3D: Chapter 0 Starter in Google Colab\n",
        "\n",
        "**Getting Started with other files other than C3D, like Motek MOX files in Python and Colab**  \n",
        "Free MATLAB code is also shared here: https://youtu.be/ZSo4yZC5fXY\n",
        "\n",
        "**Ebook:** *A Hands-On Guide to Biomechanics Data Analysis with Python and AI*  \n",
        "**Author:** Dr. Hossein Mokhtarzadeh  \n",
        "**Powered by:** PoseIQ™\n",
        "\n",
" **Disclaimer** This notebook demonstrates how to parse `.mox` motion files for educational purposes.  
 It does not include or depend on any Motek Medical software.  
 “Motek” and “MOX” are mentioned only to describe the file format.  
 The sample dataset is publicly available on Figshare under its stated license.  
 Cite the dataset authors if you reuse their data.\n",
 "\n",
        "Welcome to Chapter 0. This notebook will walk you through loading and visualizing biomechanics C3D files in Google Colab.\n",
        "\n",
        "We have been developing PoseIQ tools for physio, human movement, and rehab using just a camera. This ebook and its companion course on Udemy are designed to teach you by doing. No prior experience with C3D, Python, or Colab needed.\n",
        "\n",
        "In this book we focus mainly on C3D files. You can learn more in the book on Udemy https://www.udemy.com/user/hossein-mokhtarzadeh/ or our Amazon books https://www.amazon.com.au/dp/B0DJSJ14VP?binding=kindle_edition&ref=dbs_dp_rwt_sb_pc_tkin. This is just to show you any other format can be easily used and analyzed in Colab too.\n",
        "\n",
        "**Quick Start:** Just click **Runtime > Run all**, and you are good to go.  \n",
        "You will download a sample MOX dataset, install the needed tools, load and plot your first signal.\n",
        "\n",
        "Links:  \n",
        "- PoseIQ on LinkedIn  \n",
        "- Demo Page  \n",
        "- poseiq.com\n"
      ]
    },
    {
      "cell_type": "markdown",
      "id": "ec6144e1",
      "metadata": {
        "id": "ec6144e1"
      },
      "source": [
        "## 1. Setup\n",
        "This cell installs dependencies for parsing Motek MOX files and plotting. It also sets a default file ID to fetch a MOX sample from Figshare.\n"
      ]
    },
    {
      "cell_type": "code",
      "execution_count": null,
      "id": "2d34fe6b",
      "metadata": {
        "id": "2d34fe6b"
      },
      "outputs": [],
      "source": [
        "#@title Install dependencies\n",
        "# Figshare .mox fetch by file ID, then parse to pandas and quick plot\n",
        "# Change FILE_ID if you want a different file\n",
        "FILE_ID = 38706069   # from your screenshot: HCC009_slow0001.mox\n",
        "\n",
        "!pip install -q xmltodict munch pandas matplotlib requests ipywidgets\n"
      ]
    },
    {
      "cell_type": "code",
      "execution_count": null,
      "id": "39723569",
      "metadata": {
        "id": "39723569"
      },
      "outputs": [],
      "source": [
        "#@title Imports\n",
        "import requests, io, zipfile, numpy as np, pandas as pd, xmltodict, matplotlib.pyplot as plt\n",
        "from munch import DefaultMunch\n",
        "from pathlib import Path\n",
        "from IPython.display import display\n",
        "import ipywidgets as widgets\n",
        "\n",
        "# Improve plotting inline in Colab\n",
        "%matplotlib inline\n"
      ]
    },
    {
      "cell_type": "code",
      "execution_count": null,
      "id": "8fa5dd2d",
      "metadata": {
        "id": "8fa5dd2d"
      },
      "outputs": [],
      "source": [
        "#@title Functions: get_figshare_file and read_mox_to_dataframe (kept exactly as provided)\n",
        "\n",
        "def get_figshare_file(file_id: int, out_path: str) -> Path:\n",
        "    # Try the ndownloader endpoint with redirects and a real user agent\n",
        "    url = f\"https://figshare.com/ndownloader/files/{file_id}\"\n",
        "    headers = {\"User-Agent\": \"Mozilla/5.0\"}\n",
        "    r = requests.get(url, headers=headers, allow_redirects=True, stream=True, timeout=60)\n",
        "    r.raise_for_status()\n",
        "\n",
        "    # save to disk\n",
        "    p = Path(out_path)\n",
        "    with p.open(\"wb\") as f:\n",
        "        for chunk in r.iter_content(chunk_size=1<<20):\n",
        "            if chunk:\n",
        "                f.write(chunk)\n",
        "\n",
        "    # reject obvious HTML\n",
        "    head = p.read_bytes()[:200].decode(\"utf-8\", errors=\"ignore\").lower()\n",
        "    if \"<html\" in head or \"<!doctype html\" in head:\n",
        "        raise RuntimeError(\"Got an HTML page instead of the file. Copy the direct download link again or try another file ID.\")\n",
        "    if p.stat().st_size < 1024:  # too small to be a real mox\n",
        "        raise RuntimeError(\"Downloaded file is suspiciously small. Try another file ID.\")\n",
        "    return p\n",
        "\n",
        "def read_mox_to_dataframe(path: str) -> pd.DataFrame:\n",
        "    raw = Path(path).read_bytes()\n",
        "\n",
        "    # Some .mox files are plain XML, some are a zip that contains XML\n",
        "    if zipfile.is_zipfile(io.BytesIO(raw)):\n",
        "        with zipfile.ZipFile(io.BytesIO(raw)) as zf:\n",
        "            inner = next((n for n in zf.namelist() if n.lower().endswith((\".mox\", \".xml\"))), None)\n",
        "            if not inner:\n",
        "                raise RuntimeError(\"Zip did not contain a .mox or .xml file\")\n",
        "            text_xml = zf.read(inner).decode(\"utf-8\", errors=\"replace\")\n",
        "    else:\n",
        "        text_xml = raw.decode(\"utf-8\", errors=\"replace\")\n",
        "\n",
        "    if \"<\" not in text_xml[:200]:\n",
        "        raise RuntimeError(\"File does not look like XML. The link may not be a mox file.\")\n",
        "\n",
        "    doc = DefaultMunch.fromDict(xmltodict.parse(text_xml))\n",
        "    chans = doc.moxie_viewer_datafile.viewer_data.viewer_channel\n",
        "    if not isinstance(chans, list):\n",
        "        chans = [chans]\n",
        "\n",
        "    series = {}\n",
        "    for ch in chans:\n",
        "        label = str(ch.channel_label)\n",
        "        vals = str(ch.raw_channel_data.channel_data).split()\n",
        "        try:\n",
        "            arr = np.array([float(x) for x in vals], dtype=float)\n",
        "        except Exception:\n",
        "            continue  # skip non numeric channels\n",
        "        series[label] = arr\n",
        "\n",
        "    if not series:\n",
        "        raise RuntimeError(\"No numeric channels found in this mox\")\n",
        "\n",
        "    min_len = min(len(v) for v in series.values())\n",
        "    df = pd.DataFrame({k: v[:min_len] for k, v in series.items()})\n",
        "\n",
        "    if \"Timekey\" in df.columns:\n",
        "        df.insert(0, \"Time\", df[\"Timekey\"] - df[\"Timekey\"].iloc[0])\n",
        "    return df\n"
      ]
    },
    {
      "cell_type": "markdown",
      "id": "306c8fb3",
      "metadata": {
        "id": "306c8fb3"
      },
      "source": [
        "## 2. Download and Parse a MOX File\n",
        "Change the `FILE_ID` above if you want to fetch a different Figshare file. This cell downloads the MOX, parses channels to a DataFrame, and prints a quick preview.\n"
      ]
    },
    {
      "cell_type": "code",
      "execution_count": null,
      "id": "3eedbe58",
      "metadata": {
        "id": "3eedbe58"
      },
      "outputs": [],
      "source": [
        "#@title Download, parse, and preview\n",
        "path = get_figshare_file(FILE_ID, \"trial.mox\")\n",
        "df = read_mox_to_dataframe(path)\n",
        "\n",
        "print(\"Channels:\", len([c for c in df.columns if c != \"Time\"]))\n",
        "print(\"Samples per channel:\", len(df))\n",
        "print(\"Columns preview:\", df.columns.tolist()[:10], \"...\")\n",
        "display(df.head())\n",
        "\n",
        "# Optional: save a CSV snapshot\n",
        "df.to_csv(\"trial_channels.csv\", index=False)\n",
        "print(\"Saved CSV to trial_channels.csv\")\n"
      ]
    },
    {
      "cell_type": "markdown",
      "id": "3760d774",
      "metadata": {
        "id": "3760d774"
      },
      "source": [
        "## 3. Quick Multi channel Plot\n",
        "Plots up to 6 channels for a fast visual check.\n"
      ]
    },
    {
      "cell_type": "code",
      "execution_count": null,
      "id": "c3e1a33b",
      "metadata": {
        "id": "c3e1a33b"
      },
      "outputs": [],
      "source": [
        "#@title Quick plot of first 6 channels\n",
        "plt.figure()\n",
        "cols = [c for c in df.columns if c != \"Time\"][:6]\n",
        "x = df[\"Time\"] if \"Time\" in df.columns else range(len(df))\n",
        "for c in cols:\n",
        "    plt.plot(x, df[c], label=c)\n",
        "plt.title(\"Quick view of first channels\")\n",
        "plt.xlabel(\"Time\" if \"Time\" in df.columns else \"Sample\")\n",
        "plt.ylabel(\"Value\")\n",
        "plt.legend(loc=\"upper right\")\n",
        "plt.show()\n"
      ]
    },
    {
      "cell_type": "markdown",
      "id": "3b87d852",
      "metadata": {
        "id": "3b87d852"
      },
      "source": [
        "## 4. Interactive Channel Explorer\n",
        "Pick a channel from the dropdown to plot it interactively.\n"
      ]
    },
    {
      "cell_type": "code",
      "execution_count": null,
      "id": "fca479e4",
      "metadata": {
        "id": "fca479e4"
      },
      "outputs": [],
      "source": [
        "#@title Interactive single channel viewer\n",
        "params = df.columns.tolist()\n",
        "print(\"Available parameters:\", params[:20], \"...\" if len(params) > 20 else \"\")\n",
        "\n",
        "dropdown = widgets.Dropdown(\n",
        "    options=[p for p in params if p != \"Time\"],\n",
        "    description=\"Channel:\",\n",
        "    layout=widgets.Layout(width='50%')\n",
        ")\n",
        "\n",
        "out = widgets.Output()\n",
        "\n",
        "def plot_selected(change):\n",
        "    out.clear_output(wait=True)\n",
        "    with out:\n",
        "        param = change['new']\n",
        "        if param is None:\n",
        "            return\n",
        "        plt.figure(figsize=(8,4))\n",
        "        x = df[\"Time\"] if \"Time\" in df.columns else range(len(df))\n",
        "        plt.plot(x, df[param], label=param)\n",
        "        plt.title(f\"Plot of {param}\")\n",
        "        plt.xlabel(\"Time\" if \"Time\" in df.columns else \"Sample\")\n",
        "        plt.ylabel(\"Value\")\n",
        "        plt.legend()\n",
        "        plt.show()\n",
        "\n",
        "dropdown.observe(plot_selected, names='value')\n",
        "display(dropdown, out)\n"
      ]
    },
    {
      "cell_type": "markdown",
      "id": "c2dd09a0",
      "metadata": {
        "id": "c2dd09a0"
      },
      "source": [
        "## 5. Optional: Upload Your Own .mox\n",
        "If you have a local MOX file, upload it here and re run the parsing and plotting cells.\n"
      ]
    },
    {
      "cell_type": "code",
      "execution_count": null,
      "id": "5f820db4",
      "metadata": {
        "id": "5f820db4"
      },
      "outputs": [],
      "source": [
        "#@title Upload a local MOX file (optional)\n",
        "from google.colab import files\n",
        "\n",
        "uploaded = files.upload()\n",
        "if uploaded:\n",
        "    local_name = next(iter(uploaded.keys()))\n",
        "    print(\"Using uploaded file:\", local_name)\n",
        "    df = read_mox_to_dataframe(local_name)\n",
        "    display(df.head())\n"
      ]
    },
    {
      "cell_type": "markdown",
      "id": "f6229b77",
      "metadata": {
        "id": "f6229b77"
      },
      "source": [
        "---\n",
        "\n",
        "### Next steps\n",
        "- To work with C3D files in Colab, you can adapt the same pattern: fetch or upload, parse to a DataFrame, then visualize.  \n",
        "- This notebook shows that MOX and other formats can be handled in Colab with a simple pipeline.\n",
        "\n",
        "Happy exploring with PoseIQ.\n"
      ]
    }
  ],
  "metadata": {
    "colab": {
      "provenance": []
    },
    "language_info": {
      "name": "python"
    },
    "kernelspec": {
      "name": "python3",
      "display_name": "Python 3"
    }
  },
  "nbformat": 4,
  "nbformat_minor": 5
}
